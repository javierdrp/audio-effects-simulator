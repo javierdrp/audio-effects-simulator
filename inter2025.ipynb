{
  "cells": [
    {
      "cell_type": "markdown",
      "metadata": {
        "id": "BZHOfP4hO8Vj"
      },
      "source": [
        "# Prueba Intertrimestral\n",
        "\n",
        "**Nombre:**  Javier\n",
        "**Apellidos:**  Díaz de Rábago Pemán\n",
        "\n",
        "**Tiempo de la prueba:** 2 horas  \n",
        "**Asignatura:** Desarrollo de Aplicaciones para la Visualización de Datos  \n",
        "**Fecha:** 16 de octubre de 2025  \n",
        "\n",
        "## Instrucciones\n",
        "\n",
        "- Escribe **código limpio y autoexplicativo**.  \n",
        "- Se pueden utilizar **los materiales de clase**.  \n",
        "- Se puede utilizar **internet** para búsqueda de dudas y documentación.  \n",
        "- **No se puede utilizar ningún tipo de LLM** (ChatGPT, Copilot, Gemini, etc.).  \n",
        "- **No se puede utilizar mensajería instantánea**.  \n",
        "- Al finalizar, **sube tu notebook a GitHub** y envía el enlace del fichero en el siguiente formulario:  \n",
        "[https://forms.office.com/e/LFVwu9z6uQ](https://forms.office.com/e/LFVwu9z6uQ)\n",
        "\n",
        "\n",
        "## Dataset “Life Style Data”\n",
        "\n",
        "El dataset contiene información sobre hábitos de vida (alimentación, sueño, ejercicio, consumo de tabaco o alcohol, etc.) y medidas de salud (IMC, presión arterial, etc.) para diferentes individuos.\n",
        "\n",
        "Puedes descargarlo del repositorio de la asignatura y un .txt con la descripción de las variables.\n"
      ]
    },
    {
      "cell_type": "markdown",
      "metadata": {
        "id": "pAyOgtngSm8l"
      },
      "source": [
        "## Inicialización de librerías"
      ]
    },
    {
      "cell_type": "code",
      "execution_count": 168,
      "metadata": {
        "id": "rUSOV34cSmDn"
      },
      "outputs": [],
      "source": [
        "import numpy as np\n",
        "import pandas as pd\n",
        "import plotly.express as px\n",
        "import plotly.graph_objects as go\n",
        "import matplotlib.pyplot as plt\n",
        "\n",
        "\n",
        "from sklearn.model_selection import train_test_split\n",
        "from sklearn.linear_model import LinearRegression\n",
        "from sklearn.ensemble import RandomForestRegressor\n",
        "from sklearn.linear_model import LogisticRegression\n",
        "from sklearn.metrics import r2_score, mean_squared_error, accuracy_score, confusion_matrix, ConfusionMatrixDisplay\n",
        "from sklearn.preprocessing import StandardScaler\n",
        "from sklearn.pipeline import Pipeline"
      ]
    },
    {
      "cell_type": "markdown",
      "metadata": {
        "id": "otirxiJrSsEC"
      },
      "source": [
        "# Ejercicio 1 — Programación (2 puntos)\n",
        "\n",
        "a) (0.6 pts) Crea una función imc(weight, height) que devuelva el índice de masa corporal (IMC), redondeado a dos decimales.\n",
        "\n"
      ]
    },
    {
      "cell_type": "code",
      "execution_count": 7,
      "metadata": {
        "id": "3N45WKtkS6-A"
      },
      "outputs": [],
      "source": [
        "def imc(weight, height):\n",
        "    return weight / height**2"
      ]
    },
    {
      "cell_type": "markdown",
      "metadata": {
        "id": "BLBDCknMS7TE"
      },
      "source": [
        "b) (0.6 pts) Crea una función saludable(imcValue) que devuelva \"Saludable\" si el IMC está entre 18.5 y 24.9, \"Bajo peso\" si es menor de 18.5, o \"Sobrepeso\" si es mayor de 24.9."
      ]
    },
    {
      "cell_type": "code",
      "execution_count": 6,
      "metadata": {
        "id": "WDhSuYXLS9Fz"
      },
      "outputs": [],
      "source": [
        "def saludable(imcValue):\n",
        "    return \"Bajo peso\" if imcValue < 18.5 else \"Saludable\" if imcValue <= 24.9 else \"Sobrepeso\""
      ]
    },
    {
      "cell_type": "markdown",
      "metadata": {
        "id": "KjQkJdhLS9dO"
      },
      "source": [
        "c) (0.6 pts) Genera un DataFrame llamado imcData que contenga al menos 10 registros con las siguientes columnas:\n",
        "\n",
        "\n",
        "*   peso (en kilogramos)\n",
        "\n",
        "*   altura (en metros)\n",
        "\n",
        "*   imc (calculado usando la función imc(weight, height) creada anteriormente)\n",
        "\n",
        "Puedes generar los datos de peso y altura manualmente, mediante listas, o de forma aleatoria utilizando numpy (np.random.uniform o similar).\n",
        "\n",
        "Añade una cuarta columna llamada categoria, cuyos valores provengan de la función saludable(imcValue).\n",
        "\n",
        "Muestra las primeras filas del DataFrame resultante y comprueba que los tipos de datos son correctos."
      ]
    },
    {
      "cell_type": "code",
      "execution_count": 14,
      "metadata": {
        "id": "sN09MzT_TGWv"
      },
      "outputs": [
        {
          "data": {
            "text/html": [
              "<div>\n",
              "<style scoped>\n",
              "    .dataframe tbody tr th:only-of-type {\n",
              "        vertical-align: middle;\n",
              "    }\n",
              "\n",
              "    .dataframe tbody tr th {\n",
              "        vertical-align: top;\n",
              "    }\n",
              "\n",
              "    .dataframe thead th {\n",
              "        text-align: right;\n",
              "    }\n",
              "</style>\n",
              "<table border=\"1\" class=\"dataframe\">\n",
              "  <thead>\n",
              "    <tr style=\"text-align: right;\">\n",
              "      <th></th>\n",
              "      <th>peso</th>\n",
              "      <th>altura</th>\n",
              "      <th>imc</th>\n",
              "      <th>categoria</th>\n",
              "    </tr>\n",
              "  </thead>\n",
              "  <tbody>\n",
              "    <tr>\n",
              "      <th>0</th>\n",
              "      <td>60.185310</td>\n",
              "      <td>1.436333</td>\n",
              "      <td>29.172960</td>\n",
              "      <td>Sobrepeso</td>\n",
              "    </tr>\n",
              "    <tr>\n",
              "      <th>1</th>\n",
              "      <td>41.793936</td>\n",
              "      <td>1.829415</td>\n",
              "      <td>12.487881</td>\n",
              "      <td>Bajo peso</td>\n",
              "    </tr>\n",
              "    <tr>\n",
              "      <th>2</th>\n",
              "      <td>90.614677</td>\n",
              "      <td>1.496078</td>\n",
              "      <td>40.484598</td>\n",
              "      <td>Sobrepeso</td>\n",
              "    </tr>\n",
              "    <tr>\n",
              "      <th>3</th>\n",
              "      <td>44.141459</td>\n",
              "      <td>1.874155</td>\n",
              "      <td>12.567114</td>\n",
              "      <td>Bajo peso</td>\n",
              "    </tr>\n",
              "    <tr>\n",
              "      <th>4</th>\n",
              "      <td>55.819264</td>\n",
              "      <td>1.996533</td>\n",
              "      <td>14.003324</td>\n",
              "      <td>Bajo peso</td>\n",
              "    </tr>\n",
              "  </tbody>\n",
              "</table>\n",
              "</div>"
            ],
            "text/plain": [
              "        peso    altura        imc  categoria\n",
              "0  60.185310  1.436333  29.172960  Sobrepeso\n",
              "1  41.793936  1.829415  12.487881  Bajo peso\n",
              "2  90.614677  1.496078  40.484598  Sobrepeso\n",
              "3  44.141459  1.874155  12.567114  Bajo peso\n",
              "4  55.819264  1.996533  14.003324  Bajo peso"
            ]
          },
          "execution_count": 14,
          "metadata": {},
          "output_type": "execute_result"
        }
      ],
      "source": [
        "pesos = np.random.uniform(40, 95, 10)\n",
        "alturas = np.random.uniform(1.40, 2.00, 10)\n",
        "imcs = [ imc(p, a) for p, a in zip(pesos, alturas) ]\n",
        "categorias = [ saludable(imc) for imc in imcs]\n",
        "\n",
        "imcData = pd.DataFrame({\n",
        "    \"peso\": pesos, \"altura\": alturas, \"imc\": imcs, \"categoria\": categorias\n",
        "})\n",
        "\n",
        "imcData.head()"
      ]
    },
    {
      "cell_type": "markdown",
      "metadata": {
        "id": "uqaLQ7v3TGqI"
      },
      "source": [
        "d) (0.2 pts) ¿Cómo podrías integrar ambas funciones dentro de una clase llamada HealthTools que calcule el IMC y clasifique automáticamente a partir de listas de pesos y alturas?"
      ]
    },
    {
      "cell_type": "code",
      "execution_count": 15,
      "metadata": {
        "id": "ac1ReJOvTuS9"
      },
      "outputs": [
        {
          "data": {
            "text/html": [
              "<div>\n",
              "<style scoped>\n",
              "    .dataframe tbody tr th:only-of-type {\n",
              "        vertical-align: middle;\n",
              "    }\n",
              "\n",
              "    .dataframe tbody tr th {\n",
              "        vertical-align: top;\n",
              "    }\n",
              "\n",
              "    .dataframe thead th {\n",
              "        text-align: right;\n",
              "    }\n",
              "</style>\n",
              "<table border=\"1\" class=\"dataframe\">\n",
              "  <thead>\n",
              "    <tr style=\"text-align: right;\">\n",
              "      <th></th>\n",
              "      <th>peso</th>\n",
              "      <th>altura</th>\n",
              "      <th>imc</th>\n",
              "      <th>categoria</th>\n",
              "    </tr>\n",
              "  </thead>\n",
              "  <tbody>\n",
              "    <tr>\n",
              "      <th>0</th>\n",
              "      <td>60.185310</td>\n",
              "      <td>1.436333</td>\n",
              "      <td>29.172960</td>\n",
              "      <td>Sobrepeso</td>\n",
              "    </tr>\n",
              "    <tr>\n",
              "      <th>1</th>\n",
              "      <td>41.793936</td>\n",
              "      <td>1.829415</td>\n",
              "      <td>12.487881</td>\n",
              "      <td>Bajo peso</td>\n",
              "    </tr>\n",
              "    <tr>\n",
              "      <th>2</th>\n",
              "      <td>90.614677</td>\n",
              "      <td>1.496078</td>\n",
              "      <td>40.484598</td>\n",
              "      <td>Sobrepeso</td>\n",
              "    </tr>\n",
              "    <tr>\n",
              "      <th>3</th>\n",
              "      <td>44.141459</td>\n",
              "      <td>1.874155</td>\n",
              "      <td>12.567114</td>\n",
              "      <td>Bajo peso</td>\n",
              "    </tr>\n",
              "    <tr>\n",
              "      <th>4</th>\n",
              "      <td>55.819264</td>\n",
              "      <td>1.996533</td>\n",
              "      <td>14.003324</td>\n",
              "      <td>Bajo peso</td>\n",
              "    </tr>\n",
              "  </tbody>\n",
              "</table>\n",
              "</div>"
            ],
            "text/plain": [
              "        peso    altura        imc  categoria\n",
              "0  60.185310  1.436333  29.172960  Sobrepeso\n",
              "1  41.793936  1.829415  12.487881  Bajo peso\n",
              "2  90.614677  1.496078  40.484598  Sobrepeso\n",
              "3  44.141459  1.874155  12.567114  Bajo peso\n",
              "4  55.819264  1.996533  14.003324  Bajo peso"
            ]
          },
          "execution_count": 15,
          "metadata": {},
          "output_type": "execute_result"
        }
      ],
      "source": [
        "class HealthTools:\n",
        "    def __init__(self):\n",
        "        pass\n",
        "\n",
        "    def imc(self, weight, height):\n",
        "        return weight / height**2\n",
        "    \n",
        "    def saludable(self, imcValue):\n",
        "        return \"Bajo peso\" if imcValue < 18.5 else \"Saludable\" if imcValue <= 24.9 else \"Sobrepeso\"\n",
        "    \n",
        "    def imcData(self, weights, heights):\n",
        "        imcs = [ imc(p, a) for p, a in zip(weights, heights) ]\n",
        "        categories = [ saludable(imc) for imc in imcs]\n",
        "\n",
        "        imcData = pd.DataFrame({\n",
        "            \"peso\": weights, \"altura\": heights, \"imc\": imcs, \"categoria\": categories\n",
        "        })\n",
        "\n",
        "        return imcData\n",
        "    \n",
        "ht = HealthTools()\n",
        "ht.imcData(pesos, alturas).head()"
      ]
    },
    {
      "cell_type": "markdown",
      "metadata": {
        "id": "_KNWF6NGTxLR"
      },
      "source": [
        "## Ejercicio 2 — Exploración y visualización (3 puntos)\n",
        "\n",
        "a) (0.75 pts) Carga el dataset desde el fichero CSV y guárdalo en un DataFrame llamado lifeStyleData. Muestra las 5 primeras filas, el número de filas y columnas."
      ]
    },
    {
      "cell_type": "code",
      "execution_count": 20,
      "metadata": {
        "id": "l907uB6pT4qS"
      },
      "outputs": [
        {
          "name": "stdout",
          "output_type": "stream",
          "text": [
            "     Age  Gender  Weight (kg)  Height (m)  Max_BPM  Avg_BPM  Resting_BPM  \\\n",
            "0  34.91    Male        65.27        1.62   188.58   157.65        69.05   \n",
            "1  23.37  Female        56.41        1.55   179.43   131.75        73.18   \n",
            "2  33.20  Female        58.98        1.67   175.04   123.95        54.96   \n",
            "3  38.69  Female        93.78        1.70   191.21   155.10        50.07   \n",
            "4  45.09    Male        52.42        1.88   193.58   152.88        70.84   \n",
            "\n",
            "   Session_Duration (hours)  Calories_Burned Workout_Type  ...  \\\n",
            "0                      1.00          1080.90     Strength  ...   \n",
            "1                      1.37          1809.91         HIIT  ...   \n",
            "2                      0.91           802.26       Cardio  ...   \n",
            "3                      1.10          1450.79         HIIT  ...   \n",
            "4                      1.08          1166.40     Strength  ...   \n",
            "\n",
            "   cal_from_macros  pct_carbs  protein_per_kg   pct_HRR  pct_maxHR  \\\n",
            "0          2139.59   0.500432        1.624789  0.741237   0.835985   \n",
            "1          1711.65   0.500850        1.514093  0.551247   0.734270   \n",
            "2          1965.92   0.500610        1.663445  0.574534   0.708124   \n",
            "3          1627.28   0.499533        0.862017  0.744155   0.811150   \n",
            "4          2659.23   0.500581        2.538153  0.668405   0.789751   \n",
            "\n",
            "   cal_balance  lean_mass_kg  expected_burn  Burns Calories (per 30 min)_bc  \\\n",
            "0       725.10     47.777394       685.1600                    7.260425e+19   \n",
            "1      -232.91     40.809803       978.6184                    1.020506e+20   \n",
            "2       805.74     44.635580       654.5266                    1.079607e+20   \n",
            "3      1206.21     63.007432       773.6300                    8.987921e+19   \n",
            "4       303.60     43.347504       711.4176                    5.264685e+19   \n",
            "\n",
            "   Burns_Calories_Bin  \n",
            "0              Medium  \n",
            "1                High  \n",
            "2                High  \n",
            "3                High  \n",
            "4                 Low  \n",
            "\n",
            "[5 rows x 54 columns]\n",
            "1080000 filas\n",
            "54 columnas\n"
          ]
        }
      ],
      "source": [
        "lifeStyleData = pd.read_csv(\"Final_data.csv\")\n",
        "\n",
        "print(lifeStyleData.head())\n",
        "print(lifeStyleData.size, \"filas\")\n",
        "print(len(lifeStyleData.columns), \"columnas\")"
      ]
    },
    {
      "cell_type": "markdown",
      "metadata": {
        "id": "JlpQNR-CT49v"
      },
      "source": [
        "b) (0.75 pts) Crea una función describeData(dataFrame) que devuelva para cada columna: tipo de dato, número de valores nulos y porcentaje de nulos."
      ]
    },
    {
      "cell_type": "code",
      "execution_count": 44,
      "metadata": {
        "id": "oXcuxp6mT8iA"
      },
      "outputs": [
        {
          "data": {
            "text/plain": [
              "{'Age': {'tipo': 'float64', 'nulos': 0, 'nulos_pc': '0.0%'},\n",
              " 'Gender': {'tipo': 'object', 'nulos': 0, 'nulos_pc': '0.0%'},\n",
              " 'Weight (kg)': {'tipo': 'float64', 'nulos': 0, 'nulos_pc': '0.0%'},\n",
              " 'Height (m)': {'tipo': 'float64', 'nulos': 0, 'nulos_pc': '0.0%'},\n",
              " 'Max_BPM': {'tipo': 'float64', 'nulos': 1, 'nulos_pc': '0.0%'},\n",
              " 'Avg_BPM': {'tipo': 'float64', 'nulos': 1, 'nulos_pc': '0.0%'},\n",
              " 'Resting_BPM': {'tipo': 'float64', 'nulos': 0, 'nulos_pc': '0.0%'},\n",
              " 'Session_Duration (hours)': {'tipo': 'float64',\n",
              "  'nulos': 0,\n",
              "  'nulos_pc': '0.0%'},\n",
              " 'Calories_Burned': {'tipo': 'float64', 'nulos': 0, 'nulos_pc': '0.0%'},\n",
              " 'Workout_Type': {'tipo': 'object', 'nulos': 0, 'nulos_pc': '0.0%'},\n",
              " 'Fat_Percentage': {'tipo': 'float64', 'nulos': 0, 'nulos_pc': '0.0%'},\n",
              " 'Water_Intake (liters)': {'tipo': 'float64', 'nulos': 0, 'nulos_pc': '0.0%'},\n",
              " 'Workout_Frequency (days/week)': {'tipo': 'float64',\n",
              "  'nulos': 0,\n",
              "  'nulos_pc': '0.0%'},\n",
              " 'Experience_Level': {'tipo': 'float64', 'nulos': 0, 'nulos_pc': '0.0%'},\n",
              " 'BMI': {'tipo': 'float64', 'nulos': 0, 'nulos_pc': '0.0%'},\n",
              " 'Daily meals frequency': {'tipo': 'float64', 'nulos': 0, 'nulos_pc': '0.0%'},\n",
              " 'Physical exercise': {'tipo': 'float64', 'nulos': 0, 'nulos_pc': '0.0%'},\n",
              " 'Carbs': {'tipo': 'float64', 'nulos': 0, 'nulos_pc': '0.0%'},\n",
              " 'Proteins': {'tipo': 'float64', 'nulos': 0, 'nulos_pc': '0.0%'},\n",
              " 'Fats': {'tipo': 'float64', 'nulos': 0, 'nulos_pc': '0.0%'},\n",
              " 'Calories': {'tipo': 'float64', 'nulos': 0, 'nulos_pc': '0.0%'},\n",
              " 'meal_name': {'tipo': 'object', 'nulos': 0, 'nulos_pc': '0.0%'},\n",
              " 'meal_type': {'tipo': 'object', 'nulos': 0, 'nulos_pc': '0.0%'},\n",
              " 'diet_type': {'tipo': 'object', 'nulos': 0, 'nulos_pc': '0.0%'},\n",
              " 'sugar_g': {'tipo': 'float64', 'nulos': 0, 'nulos_pc': '0.0%'},\n",
              " 'sodium_mg': {'tipo': 'float64', 'nulos': 0, 'nulos_pc': '0.0%'},\n",
              " 'cholesterol_mg': {'tipo': 'float64', 'nulos': 1, 'nulos_pc': '0.0%'},\n",
              " 'serving_size_g': {'tipo': 'float64', 'nulos': 0, 'nulos_pc': '0.0%'},\n",
              " 'cooking_method': {'tipo': 'object', 'nulos': 0, 'nulos_pc': '0.0%'},\n",
              " 'prep_time_min': {'tipo': 'float64', 'nulos': 0, 'nulos_pc': '0.0%'},\n",
              " 'cook_time_min': {'tipo': 'float64', 'nulos': 0, 'nulos_pc': '0.0%'},\n",
              " 'rating': {'tipo': 'float64', 'nulos': 0, 'nulos_pc': '0.0%'},\n",
              " 'Name of Exercise': {'tipo': 'object', 'nulos': 0, 'nulos_pc': '0.0%'},\n",
              " 'Sets': {'tipo': 'float64', 'nulos': 0, 'nulos_pc': '0.0%'},\n",
              " 'Reps': {'tipo': 'float64', 'nulos': 0, 'nulos_pc': '0.0%'},\n",
              " 'Benefit': {'tipo': 'object', 'nulos': 0, 'nulos_pc': '0.0%'},\n",
              " 'Burns Calories (per 30 min)': {'tipo': 'float64',\n",
              "  'nulos': 0,\n",
              "  'nulos_pc': '0.0%'},\n",
              " 'Target Muscle Group': {'tipo': 'object', 'nulos': 0, 'nulos_pc': '0.0%'},\n",
              " 'Equipment Needed': {'tipo': 'object', 'nulos': 0, 'nulos_pc': '0.0%'},\n",
              " 'Difficulty Level': {'tipo': 'object', 'nulos': 0, 'nulos_pc': '0.0%'},\n",
              " 'Body Part': {'tipo': 'object', 'nulos': 0, 'nulos_pc': '0.0%'},\n",
              " 'Type of Muscle': {'tipo': 'object', 'nulos': 0, 'nulos_pc': '0.0%'},\n",
              " 'Workout': {'tipo': 'object', 'nulos': 0, 'nulos_pc': '0.0%'},\n",
              " 'BMI_calc': {'tipo': 'float64', 'nulos': 0, 'nulos_pc': '0.0%'},\n",
              " 'cal_from_macros': {'tipo': 'float64', 'nulos': 0, 'nulos_pc': '0.0%'},\n",
              " 'pct_carbs': {'tipo': 'float64', 'nulos': 0, 'nulos_pc': '0.0%'},\n",
              " 'protein_per_kg': {'tipo': 'float64', 'nulos': 0, 'nulos_pc': '0.0%'},\n",
              " 'pct_HRR': {'tipo': 'float64', 'nulos': 0, 'nulos_pc': '0.0%'},\n",
              " 'pct_maxHR': {'tipo': 'float64', 'nulos': 0, 'nulos_pc': '0.0%'},\n",
              " 'cal_balance': {'tipo': 'float64', 'nulos': 0, 'nulos_pc': '0.0%'},\n",
              " 'lean_mass_kg': {'tipo': 'float64', 'nulos': 0, 'nulos_pc': '0.0%'},\n",
              " 'expected_burn': {'tipo': 'float64', 'nulos': 0, 'nulos_pc': '0.0%'},\n",
              " 'Burns Calories (per 30 min)_bc': {'tipo': 'float64',\n",
              "  'nulos': 0,\n",
              "  'nulos_pc': '0.0%'},\n",
              " 'Burns_Calories_Bin': {'tipo': 'object', 'nulos': 0, 'nulos_pc': '0.0%'}}"
            ]
          },
          "execution_count": 44,
          "metadata": {},
          "output_type": "execute_result"
        }
      ],
      "source": [
        "def describeData(df):\n",
        "    desc = {}\n",
        "    size = df.size\n",
        "    for col in df.columns:\n",
        "        desc[col] = {\n",
        "            'tipo': str(df.dtypes[col]),\n",
        "            'nulos': (nulls := int(df[col].isna().sum())),\n",
        "            'nulos_pc': f\"{nulls / size * 100:.1f}%\"\n",
        "        }\n",
        "    return desc\n",
        "\n",
        "desc = describeData(lifeStyleData)\n",
        "desc"
      ]
    },
    {
      "cell_type": "markdown",
      "metadata": {
        "id": "mHjSdK4oT7Yp"
      },
      "source": [
        "c) (0.75 pts) Usa describeData(lifeStyleData) y comenta brevemente (2–3 líneas) qué variables parecen tener más valores faltantes."
      ]
    },
    {
      "cell_type": "code",
      "execution_count": null,
      "metadata": {
        "id": "bgMOXwrbT-Du"
      },
      "outputs": [
        {
          "name": "stdout",
          "output_type": "stream",
          "text": [
            "{'Max_BPM': {'tipo': 'float64', 'nulos': 1, 'nulos_pc': '0.0%'}, 'Avg_BPM': {'tipo': 'float64', 'nulos': 1, 'nulos_pc': '0.0%'}, 'cholesterol_mg': {'tipo': 'float64', 'nulos': 1, 'nulos_pc': '0.0%'}}\n"
          ]
        }
      ],
      "source": [
        "print({k: v for k, v in desc.items() if v[\"nulos\"] > 0})"
      ]
    },
    {
      "cell_type": "markdown",
      "metadata": {},
      "source": [
        "Solo falta un valor de cada una de estas variables: Max_BPM, Avg_BPM, cholesterol_mg. Como es muy poco, podemos eliminar esas filas."
      ]
    },
    {
      "cell_type": "code",
      "execution_count": 50,
      "metadata": {},
      "outputs": [],
      "source": [
        "lifeStyleData.dropna(inplace=True)"
      ]
    },
    {
      "cell_type": "markdown",
      "metadata": {
        "id": "qlYW9h-qT-VT"
      },
      "source": [
        "d) (0.75 pts) Realiza un gráfico que muestre las correlaciones entre variables numéricas. ¿Hay alguna correlación fuerte o inesperada?"
      ]
    },
    {
      "cell_type": "code",
      "execution_count": 52,
      "metadata": {
        "id": "buQgpNSrUCS3"
      },
      "outputs": [
        {
          "data": {
            "application/vnd.plotly.v1+json": {
              "config": {
                "plotlyServerURL": "https://plot.ly"
              },
              "data": [
                {
                  "coloraxis": "coloraxis",
                  "hovertemplate": "x: %{x}<br>y: %{y}<br>color: %{z}<extra></extra>",
                  "name": "0",
                  "type": "heatmap",
                  "x": [
                    "Age",
                    "Weight (kg)",
                    "Height (m)",
                    "Max_BPM",
                    "Avg_BPM",
                    "Resting_BPM",
                    "Session_Duration (hours)",
                    "Calories_Burned",
                    "Fat_Percentage",
                    "Water_Intake (liters)",
                    "Workout_Frequency (days/week)",
                    "Experience_Level",
                    "BMI",
                    "Daily meals frequency",
                    "Physical exercise",
                    "Carbs",
                    "Proteins",
                    "Fats",
                    "Calories",
                    "sugar_g",
                    "sodium_mg",
                    "cholesterol_mg",
                    "serving_size_g",
                    "prep_time_min",
                    "cook_time_min",
                    "rating",
                    "Sets",
                    "Reps",
                    "Burns Calories (per 30 min)",
                    "BMI_calc",
                    "cal_from_macros",
                    "pct_carbs",
                    "protein_per_kg",
                    "pct_HRR",
                    "pct_maxHR",
                    "cal_balance",
                    "lean_mass_kg",
                    "expected_burn",
                    "Burns Calories (per 30 min)_bc"
                  ],
                  "xaxis": "x",
                  "y": [
                    "Age",
                    "Weight (kg)",
                    "Height (m)",
                    "Max_BPM",
                    "Avg_BPM",
                    "Resting_BPM",
                    "Session_Duration (hours)",
                    "Calories_Burned",
                    "Fat_Percentage",
                    "Water_Intake (liters)",
                    "Workout_Frequency (days/week)",
                    "Experience_Level",
                    "BMI",
                    "Daily meals frequency",
                    "Physical exercise",
                    "Carbs",
                    "Proteins",
                    "Fats",
                    "Calories",
                    "sugar_g",
                    "sodium_mg",
                    "cholesterol_mg",
                    "serving_size_g",
                    "prep_time_min",
                    "cook_time_min",
                    "rating",
                    "Sets",
                    "Reps",
                    "Burns Calories (per 30 min)",
                    "BMI_calc",
                    "cal_from_macros",
                    "pct_carbs",
                    "protein_per_kg",
                    "pct_HRR",
                    "pct_maxHR",
                    "cal_balance",
                    "lean_mass_kg",
                    "expected_burn",
                    "Burns Calories (per 30 min)_bc"
                  ],
                  "yaxis": "y",
                  "z": {
                    "bdata": "AAAAAAAA8D9G12Y9d52mv4Uuv+0b9KK/k2TcTBqGnb+Sh6g/xiCkP8agHCLaS4s/n+RNE5ACmr//QOGtY/OVvxHYB6oXxpm/GLJswZhAoz8wIgUczSp9P7QHYMNUC5e/EUnpTuiBkb/pi5PwcGijP+kW48fyHpY/G70QwA2nqj9x2iwQGcKqP/8l+W17tKo/qLKEu70Xpb/EcAOZBvmHP/tUea14Aac/uaFL0BwVij/WdLlzGASCP0LnGanr2oa/sDqW5vJDhL8BnLwdHAWGv/GxmJnzypQ/CNRB/0swnb8xNHE5WgF3P2Ydhs89gZG/obKzYFWxqj+w0hB8lTh0v3CYJ4P5QLE/DsFzGfGypj8G1HzHVq6oP8vSw223apC/yPDa4Qbrqb9YGsoVToeav1N5v1oXf5W/RtdmPXedpr8AAAAAAADwP4C4md9kptY/sFYGVT4ZsT9xsdh20OSQPwpM1Rz+NKG/rV8Bt/ajYb/fFWc2WYBevy58IueU7Og/17hQw5l42T8vVq6oXwFwvy222gcI95A/GED46NFg6z9IHcleGXqlP47/muc1z4C/warzlrIkbb+Ryb85e4dsv25zIMygnW2/9O7q5vZN7z+nhcxGr01+v7AnBew0/Iu/VCajd2INlD9Sfd/kMYWjP8tmOWod75W/TSIE1B5+o7+YIRXFshGQv6GQeqtncYE/M3IQn3Bam79c5/Y/CCm3PzaIbH3QYOs/tDlLRnYqbb8lJC4UD7xUv7Wla6uIQee/v1zGDnc2kb/FcImDytOXvwq2alt9kuc/3II6V6tr7z8x5NrqXuqYPzrc+1FHN9A/hS6/7Rv0or+AuJnfZKbWPwAAAAAAAPA/fEPgxuRIjb+YAo8QvvqIv1tfCkOSOoQ/Ug8UUkoGfD+cPmsMwjiDP/JewTvhB8S/OZGtbQB62T9hcCKq2G5+P2OtKtLACpA/FZsKFrBdxb/fHD7LZQSMv1QeDTA6M44/Bi8Buaj9gD8SEJCWOjyAP2EE0XFzjIA/Ysy14vA21j/FR5KR7ZWTvw1GAKez2oM/pVGBWvPNnD+kb85uXPGiP1W1LmSubKc/rnxNNDLfkr80ZB7RB0WRP/K6ebab7ZG/gXIeQVyFbz9pwDr167ewPw3e8dvJXcW/YE+SzYi1gD/19PJGpX+JP1TPzC3Wg8+/1AMluVKTib8Pf+8ibpl2v6yU9LCTR9A/FUKdpPmP3j+xH9lYc+WdPwMoh+Xwkbo/k2TcTBqGnb+wVgZVPhmxP3xD4MbkSI2/AAAAAAAA8D9mgH/jrcOcv63Q6biqMKI/tfUr6pEChD/fegKtq0FpP8I/Qtl/YrI/0YtRrVtQpT8lNXaVnamjv1gZEq+nS26/Zf6JXiLHsj83ewgwxzCZv6QwSCsqLIy/ilAofVTPhb+4X93Mp6qFv66EgnN0koW/lQLvq6pArz+HaiRhNWenP95hcKu0NpU/IXdz5KFVkb9drY/ZH06iv6qC6PXZQnI/jskFKKjWkL9zg+ekssysv3ooBpftHp+/ADotiEhypb/CVJUwUGeXv72kcEXWxrI/TdKFNGq2hb+J3eZWUK9xvw5yGXQ0o6y/Dxe/k6Rh4L8+oE8dWefhv1atqwBWZKY/wfP73di/rj9m/coZ8rJsP1JOBXJJeZ6/koeoP8YgpD9xsdh20OSQP5gCjxC++oi/ZoB/463DnL8AAAAAAADwPxncnmNYJ7A/LZkmmVEekz845mSjBL6AP/mP8akBU4I/6bzgZxnxeD+rJvffTEmVv0MyC7oTena/vo+oU31XnT8hkqkD5seiP0ezZlP9HZq/kyhbY87qoD+NWBynPxGhP/3tIz694qA/R/rtuKQmjT8TGH4rAaKnv5nGWxTGOZI/wGW4T0uRi79PMD6FmRuSP9YlVmlrJ3I/No0JwziPl78wXciBHy6Tv/HKN8uUq6e/j/92qQkSoL9rBQEMts6yv09RMfsIV50/VtDyqpvwoD/+6guZnLN0v8rOMQmoppI/bmXFmTlq6z99MjhMnvDqP2jai6vmfnQ/dL2OS+IviD8RKiVWvrV1vw83u2Hg+62/xqAcItpLiz8KTNUc/jShv1tfCkOSOoQ/rdDpuKowoj8Z3J5jWCewPwAAAAAAAPA/mN1elbztkb/GRh3YZK5Zv7Alp3YCiaW/7v/giMsGiD8zodMp1y52v84RRFRRrEi/UepVByPfpL9wgeHwzrakP7Djl4FTcY8/vzyVvQvFpT85imu2yuulPw6EU3zf/aU/dmGSF3HDob/KsV4TKYKhP51cr3lhbKo/9vACg8Azn78o5nW8tSByvwLz4+eV7oC/NPuCCsb3oL9OF6bEZMRAv0ItIABae2g/MphimKpHUz8hse98eFCjP6uCXZPR3qS/H4TDGonepT+/intYHe2Qv5+PGsOI3bA/Pt/2svWitr81UXL+5e2hP+LVQckXlpm/ZhcqJYCTn78C4IqAByRzv7lR20y8WU6/n+RNE5ACmr+tXwG39qNhv1IPFFJKBnw/tfUr6pEChD8tmSaZUR6TP5jdXpW87ZG/AAAAAAAA8D/hcYjwXQ/qP4T8Ob071aG/uweRRxlr0j9lDq2IfmfkP0ZFA9FTReg/Nr6e2QkUcb+3d7u72vmWPylfLDyu9qg//SBlAMGUhT8epU0BXB2FP8uPc2fkRoU/MTxLGNpqqj+vCcWVLyeGv9icc2lkeo2/yNlGLf+utz9DKBvDphGnP1Jz4zpGDGq/oJ1EExVprL87oAQ8Ta6WP/QSwk71Yoc/pHdbq0oZoT/cAzyoBJGIv4rNrp5tEnG/NvZdaTBmhT9xK414ogmAP1Dk1PfyAqa/T9PA+tNZkj93fFA1Y56GP23Rjmgf6uC/qM0t97TnmT9/Z1wnLzbuP4RCJDhtfZ+//0DhrWPzlb/fFWc2WYBev5w+awzCOIM/33oCratBaT845mSjBL6AP8ZGHdhkrlm/4XGI8F0P6j8AAAAAAADwPyFrWlYZVKG/sPFLjNzR0D9Pt/KAkqXiP2tng2R8TuY/V8zLUEcrcr+xmBcNXaScP3bdIkuVB6k/cZ5y+SMiiD/5IzCKnXaHP1MXe+24zoc/3qMKu6igqD9Ztwloxhppv8LmzbIWAYO/axXd+GF7sj8XOYqHSxCePxqB8ozuI2e/zmzgOF+Sr79/kYsNhCGaP092Ok5hm5g/aMzR6FYxpj8bffn/bQ57P5JKjwQ3LHK/reAF5o/nhz8+VJO9/VSDP62b29lxh6K/2gIblpHghT+I3kn588J5P+gG97sMI+W/pf+mIcjblz8B+RmmJsToPzQSARryZIu/EdgHqhfGmb8ufCLnlOzoP/JewTvhB8S/wj9C2X9isj/5j/GpAVOCP7Alp3YCiaW/hPw5vTvVob8ha1pWGVShvwAAAAAAAPA/rACZwV61xz+0NjEPGjOkv0zc/EFODKG/KB3Y4XPg7D/YlgONKQSrPzzpr6O6DYS/UKhYgoi2ib/DfAS3g2WJv/qdmD/jy4m/G9J/u4lO6D9R1N989k9uvycGcsB5bZG/VfbnYDHwcz+cUk8BPYiSP0/Fxy14DKa/WsIAoMepkL/yKdqCxaqav+ShAa06eHs/H5ZjgIhhob+aaDmPS96rP9Z1/E914Ow/Iyh5T4ytib+thT43eilsvwOsxC4ET+O/i06pYsoslb+r5hwR0oWfv/320iV2BuM/XmbqHRYX5T/aTjmXDGOTv5qESIgE5cY/GLJswZhAoz/XuFDDmXjZPzmRrW0Aetk/0YtRrVtQpT/pvOBnGfF4P+7/4IjLBog/uweRRxlr0j+w8UuM3NHQP6wAmcFetcc/AAAAAAAA8D/GOurkD+POP3kcdsQ3/dM/FhR5ZXJnyz+P3mnY2KmhP4q9XPMZbbc/MBOeQBQwpz8Q4KV1AhunP6qbcJqUGac/0W0rs9dZ2j9WjSr4mkeqP+ahNg9twog/5cZbuvxBmD/9n5pd13l2P34e05UuhKA/HiCrHUgdgb8ajwLrry6jP8w2ZPpNDHU/IjwKpP2zoL/k1+WiacKaP0u7jaxnZ8s/412tUNglpz9dMBjSAdR4P+5OIGgdCNK/CZaRN+BflL/FoI4karmSv6d/CK+nLcA/IDCtslHb2z9hbWhxagLSPwMBeNhpn7I/MCIFHM0qfT8vVq6oXwFwv2FwIqrYbn4/JTV2lZ2po7+rJvffTEmVvzOh0ynXLna/ZQ6tiH5n5D9Pt/KAkqXiP7Q2MQ8aM6S/xjrq5A/jzj8AAAAAAADwPx0yukhrweo/Vq8lgS/SOD/cYQCjrkSpP5omS0bK4bA/QMnXaBz9mD9oXbjIeu6YP+hhnge9NJk/vjReH7MEtT/d2UuA8V6kP6FzzAeszLC/8FETHr43hj+PeDI64TyaP2xX+to3EoE/plXP4g08tb/iwKCUc+aGP7w5TYHBVa4/yym2T9QWsD+ijEbYVZ6mP+uug6+p4Tg/V4KxiKoLmT87Pwe8qtRxv2clA6INQaK/8H1bPo2wYz+2qhnswzlkP6sE7d43CNa/YMBSpT9cmT90tvjnMs7jP9NOuo4n/4Y/tAdgw1QLl78tttoHCPeQP2OtKtLACpA/WBkSr6dLbr9DMgu6E3p2v84RRFRRrEi/RkUD0VNF6D9rZ4NkfE7mP0zc/EFODKG/eRx2xDf90z8dMrpIa8HqPwAAAAAAAPA/YXDAcpm5kD/QCiYr2madP5YU+WoXMbE/zl3Lb5wroD/vkl3bLwugP/ECNaCbM6A/gc0MpzeFtj9XA0XxGsdyPwv6Ih21JJ6/oRZ/yI4zkD+CbTvBQxOcP/tPCHD2cku/o1GaqDZVtr++yHXhhcepP+DXmUIlyK0/1ODnuOMirD/fW2pp+niqP2L9gZPvuZA/VOPlLAkooD9aZjv/9iJsP7xSpw9QLqq/KkJ/seEqcT93XFJhVtwgv6c1hUdt2dq/WNupCjL4qD/99Vxq3ornP0NDNnF3rJM/EUnpTuiBkb8YQPjo0WDrPxWbChawXcW/Zf6JXiLHsj++j6hTfVedP1HqVQcj36S/Nr6e2QkUcb9XzMtQRytyvygd2OFz4Ow/FhR5ZXJnyz9WryWBL9I4P2FwwHKZuZA/AAAAAAAA8D//ST3QysGtPxgNV1w264W/MlIwatoYb79pnuxjKzFtv+HyM1eD1G6/xsTtNdTM6j+Ba++KL8VMP1oxuzRDTZW/YZoEXteLNz/t4ZEXK/eaPyj7m61/FKS/SNrULsjHnL9/Xh3ZpUefv+jyrRq32JY/j/WCrlDenr+bDOtfVQmwPwzz4c3//+8/SF2vrsijbr+EXHrf8oB6vxrAptXyTuS/HYeVfS+jc7/OvMXWAS6PvwMycgVnPuQ/xcW92O2d6D+Y152jAiqKP06MJVsFCcs/6YuT8HBooz9IHcleGXqlP98cPstlBIy/N3sIMMcwmb8hkqkD5seiP3CB4fDOtqQ/t3e7u9r5lj+xmBcNXaScP9iWA40pBKs/j95p2NipoT/cYQCjrkSpP9AKJivaZp0//0k90MrBrT8AAAAAAADwP5R023svzje/DXaggyM/wD/TY4O7ZTzAP3zGgxHeOsA/9IFJhyanpz8ZyvE196ajP2CLRO7jpIU/B7pE70aegj9mA2WNreufPyq8ZDNoiqI/28IlCj99pL+V0Z30pMOIP0NeGjYsAZk/NFKj2CsWnz9Ez+Np+NmnP3UuZS/Ywa0/ieKlPtI9wD9UZ7xmu/97P3sWXKgCyKU/STpsuZM7pj8SBizTDIinP6MNQq08NY8/NOZN/0mwoT8DOjhrRy+iP7miZfp8oqY/6Rbjx/Ielj+O/5rnNc+Av1QeDTA6M44/pDBIKyosjL9Hs2ZT/R2av7Djl4FTcY8/KV8sPK72qD923SJLlQepPzzpr6O6DYS/ir1c8xlttz+aJktGyuGwP5YU+WoXMbE/GA1XXDbrhb+UdNt7L843vwAAAAAAAPA/LQ/rk6Kb5D+d5SWnG5vkP8am0p93muQ/GiQkToZxoT9RKvEmTL6xP3Z8pAsTmIw/iriZpxonrr++PJ4ALGiWP/WbsXx94JG/q93V1B4Km78tcyAevWt8P5x106riIY+//BNbOn+6or9mTtLde0mjPxyhjJhE6oW/OWTeVNSb5D/3EPSCY6NiP/HeDzXQ2tg/wSqdZ4Gqlr+IlIEb95OOv+ApOzTVTYG/G0dmB9QtWL9iSVym0nGvPxSKN/af1rA/G70QwA2nqj/BqvOWsiRtvwYvAbmo/YA/ilAofVTPhb+TKFtjzuqgP788lb0LxaU//SBlAMGUhT9xnnL5IyKIP1CoWIKItom/MBOeQBQwpz9AyddoHP2YP85dy2+cK6A/MlIwatoYb78NdqCDIz/APy0P65Oim+Q/AAAAAAAA8D/bSqlVrvzvP37iQ2fE/O8/KOi4u/grlT/73/ApE7ewP2M76yLqKI4/ci4wr9y1p7+zZk6Suo2TPyBm3Brok4E/G3ZA/E0zdz+LnFHX8kGbP0mFtpxs3IM/npYbHnAhs7/YvqxA/1NmvxViEQIuC2+/4MMiLGD/7z+yI2NF2Y+HP/+0SqY27uM/6FyvUOGblz+nEPnqQBigP5+DSZO2B34/SFNFPCVCXb+aMDuIzc2EP0HVTamwxqY/cdosEBnCqj+Ryb85e4dsvxIQkJY6PIA/uF/dzKeqhb+NWBynPxGhPzmKa7bK66U/HqVNAVwdhT/5IzCKnXaHP8N8BLeDZYm/EOCldQIbpz9oXbjIeu6YP++SXdsvC6A/aZ7sYysxbb/TY4O7ZTzAP53lJacbm+Q/20qpVa787z8AAAAAAADwP6VAdS7K/O8/QIDqE286lT+hSgJjA8CwP1TctQIva44/yZdRNfeqp7+kI/DPjbmTPxs9+ILNdoE/Wzgr1i2fdj8JSXY1Qw6bP8LIR9UANIM/9v/VUwQSs79lHBqV835mv9k0WkFMI22/jMlA/2L+7z+vYSF8cnqGv7+RBqmP8OM/rIqXRTjIlz85FNWX1zKgPw+tS8oxIn8//1AbTZUFXb+FNVPIMU2EP5UkC+t1xqY//yX5bXu0qj9ucyDMoJ1tv2EE0XFzjIA/roSCc3SShb/97SM+veKgPw6EU3zf/aU/y49zZ+RGhT9TF3vtuM6HP/qdmD/jy4m/qptwmpQZpz/oYZ4HvTSZP/ECNaCbM6A/4fIzV4PUbr98xoMR3jrAP8am0p93muQ/fuJDZ8T87z+lQHUuyvzvPwAAAAAAAPA/FkM/IlkVlT9FQMObq8ewP+B0bjYeQ44/xZvD47a3p7+J/+JEs5uTP8+gBROoMYE/HnOCeoi1dj/pAPI7p3mbP+mTeSFXJoM/U1v82YYfs79RIuB3hnVmv0ljFyDJxm6/xfUXR8D+7z+xOK72sSeMvxX+ZtFJ7+M/9CtWbkZslz/7TrsoHgigPxutHIbsN34/ru+/ahx/Xr8WfVR513aEP073ISJgxKY/qLKEu70Xpb/07urm9k3vP2LMteLwNtY/lQLvq6pArz9H+u24pCaNP3Zhkhdxw6G/MTxLGNpqqj/eowq7qKCoPxvSf7uJTug/0W0rs9dZ2j++NF4fswS1P4HNDKc3hbY/xsTtNdTM6j/0gUmHJqenPxokJE6GcaE/KOi4u/grlT9AgOoTbzqVPxZDPyJZFZU/AAAAAAAA8D8FE5EC5kHpvn5hk9pFGpK/BuLqJndMlT9Umxctp0ilPyJ2yxJWDZW/MLcwqsZrpr+3w2BwpR+OvyQd3WGIcoo/70iL2eehlr/fS8t9Xu+3P31IRxXSzOo/pUpWQb4olT+6R33vsQEdP6AKOaYrcua/guLlK8VFkL8beVwSs7CWvwzUdqIq++Y/TgydalDQ7j9yp4XLeZezP2GcdiCaCtA/xHADmQb5hz+nhcxGr01+v8VHkpHtlZO/h2okYTVnpz8TGH4rAaKnv8qxXhMpgqE/rwnFlS8nhr9Ztwloxhppv1HU33z2T26/Vo0q+JpHqj/d2UuA8V6kP1cDRfEax3I/gWvvii/FTD8ZyvE196ajP1Eq8SZMvrE/+9/wKRO3sD+hSgJjA8CwP0VAw5urx7A/BRORAuZB6b4AAAAAAADwPyQtZPtg65S/l3RdDv1um7+XAeKvMlpzv8CHD6MNc52/fUkUsA+6rL+lINsYtbOUP/WoU0eq75S/KeXMMVjjo7+n0Pu4bY21v/AaOwLu10w/5oG1wV6+sD9CtbFjqveDv3X9vpxx7Ko/3Ikp68rYsb/nTfcJ+gCxv7MDdPJyamE/3TobPCfug78i2h/FR0Ojv6QSlku19bG/+1R5rXgBpz+wJwXsNPyLvw1GAKez2oM/3mFwq7Q2lT+ZxlsUxjmSP51cr3lhbKo/2JxzaWR6jb/C5s2yFgGDvycGcsB5bZG/5qE2D23CiD+hc8wHrMywvwv6Ih21JJ6/WjG7NENNlb9gi0Tu46SFP3Z8pAsTmIw/YzvrIuoojj9U3LUCL2uOP+B0bjYeQ44/fmGT2kUakr8kLWT7YOuUvwAAAAAAAPA/kFLqHsoYhj8abK6PdG6Sv+KCTwRmXKW/OGwIPg9trb96i+MUOH+SP73kY7kwurC/+iq+k/wMpL/pAFhi8VmXvxHFPBeCTpW/0u767fs+jj9iQU9EqoJnvxjZggBREZM/W0CiMua+Xr9QoMkaQ89mP9ZvblLu8nu/2S+JeJE8iL+BNimcAKSYvwBli4iffkk/uaFL0BwVij9UJqN3Yg2UP6VRgVrzzZw/IXdz5KFVkb/AZbhPS5GLv/bwAoPAM5+/yNlGLf+utz9rFd34YXuyP1X252Ax8HM/5cZbuvxBmD/wURMevjeGP6EWf8iOM5A/YZoEXteLNz8HukTvRp6CP4q4macaJ66/ci4wr9y1p7/Jl1E196qnv8Wbw+O2t6e/BuLqJndMlT+XdF0O/W6bv5BS6h7KGIY/AAAAAAAA8D9gHajB42ynP2wXiazosJc/QuKse9TCkL/t4fNTr4WoP5jH9cPlxG6/OFWPs0HBor+7qP8JPtaivyMBw5hCyTc/nKGxkvy0p78u6kvhmC1hP2lznzILN6a/VWO5z5pzQT8eVGtRKq1lv+e4udxUv6G/rlmwgOLdlz+rC7dBFzezP3MlIei2RKW/1nS5cxgEgj9Sfd/kMYWjP6Rvzm5c8aI/Xa2P2R9Oor9PMD6FmRuSPyjmdby1IHK/Qygbw6YRpz8XOYqHSxCeP5xSTwE9iJI//Z+aXdd5dj+PeDI64TyaP4JtO8FDE5w/7eGRFyv3mj9mA2WNreufP748ngAsaJY/s2ZOkrqNkz+kI/DPjbmTP4n/4kSzm5M/VJsXLadIpT+XAeKvMlpzvxpsro90bpK/YB2oweNspz8AAAAAAADwPxleCceXvIy/E0XabKg6hj/7HmIESi6SP6RjBoLKjKG/zHfgyEpgqr+X/Y3uJtGRv1Hk5CGk+Jo/uLf7z02bkz/T26y07F1jv14MYFSai5W/aPT518ckoT8Q/7xbvvOgP9rK3Y6ZGoY//oKgMLIopT98PhzV8o2kP0hkoh4rv0M/QucZqevahr/LZjlqHe+Vv1W1LmSubKc/qoLo9dlCcj/WJVZpaydyPwLz4+eV7oC/UnPjOkYMar8agfKM7iNnv0/Fxy14DKa/fh7TlS6EoD9sV/raNxKBP/tPCHD2cku/KPubrX8UpL8qvGQzaIqiP/WbsXx94JG/IGbcGuiTgT8bPfiCzXaBP8+gBROoMYE/InbLElYNlb/Ahw+jDXOdv+KCTwRmXKW/bBeJrOiwlz8ZXgnHl7yMvwAAAAAAAPA/9xSgJfrlNb/ScbGiWSOjP0M0HX8WEJO/EcAUfyRaX798UUdOf1Otvz3mzG1/FKS/VoRAByhxgT8Ck83bA0xyP2GL9CBrWZo/GDnYKFl0Zz9neqxwTXg5vwKbZeA8nou/bFa8Hp4sj7+ODeUsHAWWv8YmSVSia66/sDqW5vJDhL9NIgTUHn6jv658TTQy35K/jskFKKjWkL82jQnDOI+XvzT7ggrG96C/oJ1EExVprL/ObOA4X5Kvv1rCAKDHqZC/HiCrHUgdgb+mVc/iDTy1v6NRmqg2Vba/SNrULsjHnL/bwiUKP32kv6vd1dQeCpu/G3ZA/E0zdz9bOCvWLZ92Px5zgnqItXY/MLcwqsZrpr99SRSwD7qsvzhsCD4Pba2/QuKse9TCkL8TRdpsqDqGP/cUoCX65TW/AAAAAAAA8D9lvjIEOW6eP49axzxQEpE/zDfYiLlSor+6ihCeMqSFvyLCYfTwxZy/VGh/y6rwdj9qwn78qahwPyxByQacSag/HuKpUw5qgL+6VsPb+4WDv2mPaDzCkYQ/2zOfJO9Ppr80Bov7spatvyeHmQhOun2/AZy8HRwFhr+YIRXFshGQvzRkHtEHRZE/c4PnpLLMrL8wXciBHy6Tv04XpsRkxEC/O6AEPE2ulj9/kYsNhCGaP/Ip2oLFqpq/Go8C668uoz/iwKCUc+aGP77IdeGFx6k/f14d2aVHn7+V0Z30pMOIPy1zIB69a3w/i5xR1/JBmz8JSXY1Qw6bP+kA8juneZs/t8NgcKUfjr+lINsYtbOUP3qL4xQ4f5I/7eHzU6+FqD/7HmIESi6SP9JxsaJZI6M/Zb4yBDlunj8AAAAAAADwP7EuNqNk2Jk/gZnAxhRAlz+iIVz9hdKRvxDbmO81Rp+/WD986i9Jmz+4RUYCv6hMPzbxXUMP0Zo/GYJWUYwIhj+2L+5I6HiQPxTrPczKhp2/1zpwqVlog7+PNhO9Vn+RP17aciJNo5G/8bGYmfPKlD+hkHqrZ3GBP/K6ebab7ZG/eigGl+0en7/xyjfLlKunv0ItIABae2g/9BLCTvVihz9PdjpOYZuYP+ShAa06eHs/zDZk+k0MdT+8OU2BwVWuP+DXmUIlyK0/6PKtGrfYlj9DXho2LAGZP5x106riIY+/SYW2nGzcgz/CyEfVADSDP+mTeSFXJoM/JB3dYYhyij/1qFNHqu+Uv73kY7kwurC/mMf1w+XEbr+kYwaCyoyhv0M0HX8WEJO/j1rHPFASkT+xLjajZNiZPwAAAAAAAPA/UvAehIjwyj9Fzob9jMrdPwVvbP8b2JY/nf3QL7mEgz+0AmEX1zCJP6GT5j+uLGS/mBx801WzlL9s2Bfs9JSUvwodQmNL0Hy/ZcYVbFl2gz/OOyx9hWjEP24JuxX6J9Q/CNRB/0swnb8zchCfcFqbv4FyHkFchW8/ADotiEhypb+P/3apCRKgvzKYYpiqR1M/pHdbq0oZoT9ozNHoVjGmPx+WY4CIYaG/IjwKpP2zoL/LKbZP1BawP9Tg57jjIqw/j/WCrlDenr80UqPYKxafP/wTWzp/uqK/npYbHnAhs7/2/9VTBBKzv1Nb/NmGH7O/70iL2eehlr8p5cwxWOOjv/oqvpP8DKS/OFWPs0HBor/Md+DISmCqvxHAFH8kWl+/zDfYiLlSor+BmcDGFECXP1LwHoSI8Mo/AAAAAAAA8D9rK2bCvPTVP1ihy+DW3p6/xWsnNmIes7876uL/5xprv1C5uXQWEJ+/eInXmNoyb79iiPQhAKtxv6DDIQmo96e/NNy02bPsl7/AFWTbHHbCP4GzvJRYKtE/MTRxOVoBdz9c5/Y/CCm3P2nAOvXrt7A/wlSVMFBnl79rBQEMts6yvyGx73x4UKM/3AM8qASRiL8bffn/bQ57P5poOY9L3qs/5NflomnCmj+ijEbYVZ6mP99bamn6eKo/mwzrX1UJsD9Ez+Np+NmnP2ZO0t17SaM/2L6sQP9TZr9lHBqV835mv1Ei4HeGdWa/30vLfV7vtz+n0Pu4bY21v+kAWGLxWZe/u6j/CT7Wor+X/Y3uJtGRv3xRR05/U62/uooQnjKkhb+iIVz9hdKRv0XOhv2Myt0/aytmwrz01T8AAAAAAADwP3sSm9UtCbA/vxJmuFpnZr8vy8Toc0hIvw2sahjVsbS/zwSg+FE5rL8jV9xfvaCov2e8oHMr0LA/s+TTgrDyuD+dH9+s0vbTP9PkJ5XgEOo/Zh2Gzz2Bkb82iGx90GDrPw3e8dvJXcW/vaRwRdbGsj9PUTH7CFedP6uCXZPR3qS/is2unm0Scb+SSo8ENyxyv9Z1/E914Ow/S7uNrGdnyz/rroOvqeE4P2L9gZPvuZA/DPPhzf//7z91LmUv2MGtPxyhjJhE6oW/FWIRAi4Lb7/ZNFpBTCNtv0ljFyDJxm6/fUhHFdLM6j/wGjsC7tdMPxHFPBeCTpW/IwHDmELJNz9R5OQhpPiaPz3mzG1/FKS/IsJh9PDFnL8Q25jvNUafvwVvbP8b2JY/WKHL4Nbenr97EpvVLQmwPwAAAAAAAPA/hyTfjQ2Wbr8v2Uzfl4N6vxJUTbHoTuS/BIfXjC+jc78WWJZ+qS2Pv6uzCrpmPuQ/5LEt7uud6D/6jwh1SiqKP+ikXqrlCMs/obKzYFWxqj+0OUtGdiptv2BPks2ItYA/TdKFNGq2hb9W0PKqm/CgPx+EwxqJ3qU/NvZdaTBmhT+t4AXmj+eHPyMoeU+MrYm/412tUNglpz9XgrGIqguZP1Tj5SwJKKA/SF2vrsijbr+J4qU+0j3APzlk3lTUm+Q/4MMiLGD/7z+MyUD/Yv7vP8X1F0fA/u8/pUpWQb4olT/mgbXBXr6wP9Lu+u37Po4/nKGxkvy0p7+4t/vPTZuTP1aEQAcocYE/VGh/y6rwdj9YP3zqL0mbP5390C+5hIM/xWsnNmIes7+/Ema4Wmdmv4ck340Nlm6/AAAAAAAA8D9Cw+1rgp1CvyFwM2qi7+M/MFUjLTWXlz+vS9m7PBmgP9/i1K6gT34/ZTIsyBKWXb+d1XrXo5qEP3clARGrxqY/sNIQfJU4dL8lJC4UD7xUv/X08kalf4k/id3mVlCvcb/+6guZnLN0v7+Ke1gd7ZC/cSuNeKIJgD8+VJO9/VSDP62FPjd6KWy/XTAY0gHUeD87Pwe8qtRxv1pmO//2Imw/hFx63/KAer9UZ7xmu/97P/cQ9IJjo2I/siNjRdmPhz+vYSF8cnqGv7E4rvaxJ4y/ukd977EBHT9CtbFjqveDv2JBT0Sqgme/LupL4ZgtYT/T26y07F1jvwKTzdsDTHI/asJ+/KmocD+4RUYCv6hMP7QCYRfXMIk/O+ri/+caa78vy8Toc0hIvy/ZTN+Xg3q/QsPta4KdQr8AAAAAAADwP7Lcg2nE14S/k2L9tEwLQz8o6/rJNINZv+guxYWOmHq/R70y3RqBQj9VlkDYq4aAP47DwYXDsFy/cJgng/lAsT+1pWuriEHnv1TPzC3Wg8+/DnIZdDSjrL/KzjEJqKaSP5+PGsOI3bA/UOTU9/ICpr+tm9vZcYeivwOsxC4ET+O/7k4gaB0I0r9nJQOiDUGiv7xSpw9QLqq/GsCm1fJO5L97FlyoAsilP/HeDzXQ2tg//7RKpjbu4z+/kQapj/DjPxX+ZtFJ7+M/oAo5pity5r91/b6cceyqPxjZggBREZM/aXOfMgs3pr9eDGBUmouVv2GL9CBrWZo/LEHJBpxJqD828V1DD9GaP6GT5j+uLGS/ULm5dBYQn78NrGoY1bG0vxJUTbHoTuS/IXAzaqLv4z+y3INpxNeEvwAAAAAAAPA/LPpACAH4oD8jC0eTaUmnP7Hk6eCvEOC/loQMDR8c578OLqA7kjqwv34Twhf0LsS/DsFzGfGypj+/XMYOdzaRv9QDJblSk4m/Dxe/k6Rh4L9uZcWZOWrrPz7f9rL1ora/T9PA+tNZkj/aAhuWkeCFP4tOqWLKLJW/CZaRN+BflL/wfVs+jbBjPypCf7HhKnE/HYeVfS+jc79JOmy5kzumP8EqnWeBqpa/6FyvUOGblz+sipdFOMiXP/QrVm5GbJc/guLlK8VFkL/ciSnrytixv1tAojLmvl6/VWO5z5pzQT9o9PnXxyShPxg52ChZdGc/HuKpUw5qgL8ZglZRjAiGP5gcfNNVs5S/eInXmNoyb7/PBKD4UTmsvwSH14wvo3O/MFUjLTWXlz+TYv20TAtDPyz6QAgB+KA/AAAAAAAA8D9UTtF7rKHvP4BXRAo02pO/+YMJc+sak7+I1WCk7sZMv2o3EX2knaK/BtR8x1auqD/FcImDytOXvw9/7yJumXa/PqBPHVnn4b99MjhMnvDqPzVRcv7l7aE/d3xQNWOehj+I3kn588J5P6vmHBHShZ+/xaCOJGq5kr+2qhnswzlkP3dcUmFW3CC/zrzF1gEuj78SBizTDIinP4iUgRv3k46/pxD56kAYoD85FNWX1zKgP/tOuygeCKA/G3lcErOwlr/nTfcJ+gCxv1CgyRpDz2Y/HlRrUSqtZb8Q/7xbvvOgP2d6rHBNeDm/ulbD2/uFg7+2L+5I6HiQP2zYF+z0lJS/Yoj0IQCrcb8jV9xfvaCovxZYln6pLY+/r0vZuzwZoD8o6/rJNINZvyMLR5NpSac/VE7Re6yh7z8AAAAAAADwP8XkjJ/hipW/GsRFu591mL/PP8KPkAd2v25Xt4YCFaG/y9LDbbdqkL8KtmpbfZLnP6yU9LCTR9A/Vq2rAFZkpj9o2our5n50P+LVQckXlpm/bdGOaB/q4L/oBve7DCPlv/320iV2BuM/p38Ir6ctwD+rBO3eNwjWv6c1hUdt2dq/AzJyBWc+5D+jDUKtPDWPP+ApOzTVTYG/n4NJk7YHfj8PrUvKMSJ/PxutHIbsN34/DNR2oir75j+zA3TycmphP9ZvblLu8nu/57i53FS/ob/ayt2OmRqGPwKbZeA8nou/aY9oPMKRhD8U6z3MyoadvwodQmNL0Hy/oMMhCaj3p79nvKBzK9CwP6uzCrpmPuQ/3+LUrqBPfj/oLsWFjph6v7Hk6eCvEOC/gFdECjTak7/F5Iyf4YqVvwAAAAAAAPA/6gobMXGk5j//APIfrNPevx3Om5b9Tsk/yPDa4Qbrqb/cgjpXq2vvPxVCnaT5j94/wfP73di/rj90vY5L4i+IP2YXKiWAk5+/qM0t97TnmT+l/6YhyNuXP15m6h0WF+U/IDCtslHb2z9gwFKlP1yZP1jbqQoy+Kg/xcW92O2d6D805k3/SbChPxtHZgfULVi/SFNFPCVCXb//UBtNlQVdv67vv2ocf16/TgydalDQ7j/dOhs8J+6Dv9kviXiRPIi/rlmwgOLdlz/+gqAwsiilP2xWvB6eLI+/2zOfJO9Ppr/XOnCpWWiDv2XGFWxZdoM/NNy02bPsl7+z5NOCsPK4P+SxLe7rneg/ZTIsyBKWXb9HvTLdGoFCP5aEDA0fHOe/+YMJc+sak78axEW7n3WYv+oKGzFxpOY/AAAAAAAA8D/xY3kGZxerP7QlSEOIMNA/WBrKFU6Hmr8x5NrqXuqYP7Ef2Vhz5Z0/Zv3KGfKybD8RKiVWvrV1vwLgioAHJHO/f2dcJy827j8B+RmmJsToP9pOOZcMY5O/YW1ocWoC0j90tvjnMs7jP/31XGreiuc/mNedowIqij8DOjhrRy+iP2JJXKbSca8/mjA7iM3NhD+FNVPIMU2EPxZ9VHnXdoQ/cqeFy3mXsz8i2h/FR0Ojv4E2KZwApJi/qwu3QRc3sz98PhzV8o2kP44N5SwcBZa/NAaL+7KWrb+PNhO9Vn+RP847LH2FaMQ/wBVk2xx2wj+dH9+s0vbTP/qPCHVKKoo/ndV616OahD9VlkDYq4aAPw4uoDuSOrC/iNVgpO7GTL/PP8KPkAd2v/8A8h+s096/8WN5BmcXqz8AAAAAAADwP0ctNnbXqc0/U3m/Whd/lb863PtRRzfQPwMoh+Xwkbo/Uk4Fckl5nr8PN7th4Putv7lR20y8WU6/hEIkOG19n780EgEa8mSLv5qESIgE5cY/AwF42Gmfsj/TTrqOJ/+GP0NDNnF3rJM/TowlWwUJyz+5omX6fKKmPxSKN/af1rA/QdVNqbDGpj+VJAvrdcamP073ISJgxKY/YZx2IJoK0D+kEpZLtfWxvwBli4iffkk/cyUh6LZEpb9IZKIeK79DP8YmSVSia66/J4eZCE66fb9e2nIiTaORv24JuxX6J9Q/gbO8lFgq0T/T5CeV4BDqP+ikXqrlCMs/dyUBEavGpj+Ow8GFw7Bcv34Twhf0LsS/ajcRfaSdor9uV7eGAhWhvx3Om5b9Tsk/tCVIQ4gw0D9HLTZ216nNPwAAAAAAAPA/",
                    "dtype": "f8",
                    "shape": "39, 39"
                  }
                }
              ],
              "layout": {
                "coloraxis": {
                  "colorscale": [
                    [
                      0,
                      "#0d0887"
                    ],
                    [
                      0.1111111111111111,
                      "#46039f"
                    ],
                    [
                      0.2222222222222222,
                      "#7201a8"
                    ],
                    [
                      0.3333333333333333,
                      "#9c179e"
                    ],
                    [
                      0.4444444444444444,
                      "#bd3786"
                    ],
                    [
                      0.5555555555555556,
                      "#d8576b"
                    ],
                    [
                      0.6666666666666666,
                      "#ed7953"
                    ],
                    [
                      0.7777777777777778,
                      "#fb9f3a"
                    ],
                    [
                      0.8888888888888888,
                      "#fdca26"
                    ],
                    [
                      1,
                      "#f0f921"
                    ]
                  ]
                },
                "margin": {
                  "t": 60
                },
                "template": {
                  "data": {
                    "bar": [
                      {
                        "error_x": {
                          "color": "#2a3f5f"
                        },
                        "error_y": {
                          "color": "#2a3f5f"
                        },
                        "marker": {
                          "line": {
                            "color": "#E5ECF6",
                            "width": 0.5
                          },
                          "pattern": {
                            "fillmode": "overlay",
                            "size": 10,
                            "solidity": 0.2
                          }
                        },
                        "type": "bar"
                      }
                    ],
                    "barpolar": [
                      {
                        "marker": {
                          "line": {
                            "color": "#E5ECF6",
                            "width": 0.5
                          },
                          "pattern": {
                            "fillmode": "overlay",
                            "size": 10,
                            "solidity": 0.2
                          }
                        },
                        "type": "barpolar"
                      }
                    ],
                    "carpet": [
                      {
                        "aaxis": {
                          "endlinecolor": "#2a3f5f",
                          "gridcolor": "white",
                          "linecolor": "white",
                          "minorgridcolor": "white",
                          "startlinecolor": "#2a3f5f"
                        },
                        "baxis": {
                          "endlinecolor": "#2a3f5f",
                          "gridcolor": "white",
                          "linecolor": "white",
                          "minorgridcolor": "white",
                          "startlinecolor": "#2a3f5f"
                        },
                        "type": "carpet"
                      }
                    ],
                    "choropleth": [
                      {
                        "colorbar": {
                          "outlinewidth": 0,
                          "ticks": ""
                        },
                        "type": "choropleth"
                      }
                    ],
                    "contour": [
                      {
                        "colorbar": {
                          "outlinewidth": 0,
                          "ticks": ""
                        },
                        "colorscale": [
                          [
                            0,
                            "#0d0887"
                          ],
                          [
                            0.1111111111111111,
                            "#46039f"
                          ],
                          [
                            0.2222222222222222,
                            "#7201a8"
                          ],
                          [
                            0.3333333333333333,
                            "#9c179e"
                          ],
                          [
                            0.4444444444444444,
                            "#bd3786"
                          ],
                          [
                            0.5555555555555556,
                            "#d8576b"
                          ],
                          [
                            0.6666666666666666,
                            "#ed7953"
                          ],
                          [
                            0.7777777777777778,
                            "#fb9f3a"
                          ],
                          [
                            0.8888888888888888,
                            "#fdca26"
                          ],
                          [
                            1,
                            "#f0f921"
                          ]
                        ],
                        "type": "contour"
                      }
                    ],
                    "contourcarpet": [
                      {
                        "colorbar": {
                          "outlinewidth": 0,
                          "ticks": ""
                        },
                        "type": "contourcarpet"
                      }
                    ],
                    "heatmap": [
                      {
                        "colorbar": {
                          "outlinewidth": 0,
                          "ticks": ""
                        },
                        "colorscale": [
                          [
                            0,
                            "#0d0887"
                          ],
                          [
                            0.1111111111111111,
                            "#46039f"
                          ],
                          [
                            0.2222222222222222,
                            "#7201a8"
                          ],
                          [
                            0.3333333333333333,
                            "#9c179e"
                          ],
                          [
                            0.4444444444444444,
                            "#bd3786"
                          ],
                          [
                            0.5555555555555556,
                            "#d8576b"
                          ],
                          [
                            0.6666666666666666,
                            "#ed7953"
                          ],
                          [
                            0.7777777777777778,
                            "#fb9f3a"
                          ],
                          [
                            0.8888888888888888,
                            "#fdca26"
                          ],
                          [
                            1,
                            "#f0f921"
                          ]
                        ],
                        "type": "heatmap"
                      }
                    ],
                    "histogram": [
                      {
                        "marker": {
                          "pattern": {
                            "fillmode": "overlay",
                            "size": 10,
                            "solidity": 0.2
                          }
                        },
                        "type": "histogram"
                      }
                    ],
                    "histogram2d": [
                      {
                        "colorbar": {
                          "outlinewidth": 0,
                          "ticks": ""
                        },
                        "colorscale": [
                          [
                            0,
                            "#0d0887"
                          ],
                          [
                            0.1111111111111111,
                            "#46039f"
                          ],
                          [
                            0.2222222222222222,
                            "#7201a8"
                          ],
                          [
                            0.3333333333333333,
                            "#9c179e"
                          ],
                          [
                            0.4444444444444444,
                            "#bd3786"
                          ],
                          [
                            0.5555555555555556,
                            "#d8576b"
                          ],
                          [
                            0.6666666666666666,
                            "#ed7953"
                          ],
                          [
                            0.7777777777777778,
                            "#fb9f3a"
                          ],
                          [
                            0.8888888888888888,
                            "#fdca26"
                          ],
                          [
                            1,
                            "#f0f921"
                          ]
                        ],
                        "type": "histogram2d"
                      }
                    ],
                    "histogram2dcontour": [
                      {
                        "colorbar": {
                          "outlinewidth": 0,
                          "ticks": ""
                        },
                        "colorscale": [
                          [
                            0,
                            "#0d0887"
                          ],
                          [
                            0.1111111111111111,
                            "#46039f"
                          ],
                          [
                            0.2222222222222222,
                            "#7201a8"
                          ],
                          [
                            0.3333333333333333,
                            "#9c179e"
                          ],
                          [
                            0.4444444444444444,
                            "#bd3786"
                          ],
                          [
                            0.5555555555555556,
                            "#d8576b"
                          ],
                          [
                            0.6666666666666666,
                            "#ed7953"
                          ],
                          [
                            0.7777777777777778,
                            "#fb9f3a"
                          ],
                          [
                            0.8888888888888888,
                            "#fdca26"
                          ],
                          [
                            1,
                            "#f0f921"
                          ]
                        ],
                        "type": "histogram2dcontour"
                      }
                    ],
                    "mesh3d": [
                      {
                        "colorbar": {
                          "outlinewidth": 0,
                          "ticks": ""
                        },
                        "type": "mesh3d"
                      }
                    ],
                    "parcoords": [
                      {
                        "line": {
                          "colorbar": {
                            "outlinewidth": 0,
                            "ticks": ""
                          }
                        },
                        "type": "parcoords"
                      }
                    ],
                    "pie": [
                      {
                        "automargin": true,
                        "type": "pie"
                      }
                    ],
                    "scatter": [
                      {
                        "fillpattern": {
                          "fillmode": "overlay",
                          "size": 10,
                          "solidity": 0.2
                        },
                        "type": "scatter"
                      }
                    ],
                    "scatter3d": [
                      {
                        "line": {
                          "colorbar": {
                            "outlinewidth": 0,
                            "ticks": ""
                          }
                        },
                        "marker": {
                          "colorbar": {
                            "outlinewidth": 0,
                            "ticks": ""
                          }
                        },
                        "type": "scatter3d"
                      }
                    ],
                    "scattercarpet": [
                      {
                        "marker": {
                          "colorbar": {
                            "outlinewidth": 0,
                            "ticks": ""
                          }
                        },
                        "type": "scattercarpet"
                      }
                    ],
                    "scattergeo": [
                      {
                        "marker": {
                          "colorbar": {
                            "outlinewidth": 0,
                            "ticks": ""
                          }
                        },
                        "type": "scattergeo"
                      }
                    ],
                    "scattergl": [
                      {
                        "marker": {
                          "colorbar": {
                            "outlinewidth": 0,
                            "ticks": ""
                          }
                        },
                        "type": "scattergl"
                      }
                    ],
                    "scattermap": [
                      {
                        "marker": {
                          "colorbar": {
                            "outlinewidth": 0,
                            "ticks": ""
                          }
                        },
                        "type": "scattermap"
                      }
                    ],
                    "scattermapbox": [
                      {
                        "marker": {
                          "colorbar": {
                            "outlinewidth": 0,
                            "ticks": ""
                          }
                        },
                        "type": "scattermapbox"
                      }
                    ],
                    "scatterpolar": [
                      {
                        "marker": {
                          "colorbar": {
                            "outlinewidth": 0,
                            "ticks": ""
                          }
                        },
                        "type": "scatterpolar"
                      }
                    ],
                    "scatterpolargl": [
                      {
                        "marker": {
                          "colorbar": {
                            "outlinewidth": 0,
                            "ticks": ""
                          }
                        },
                        "type": "scatterpolargl"
                      }
                    ],
                    "scatterternary": [
                      {
                        "marker": {
                          "colorbar": {
                            "outlinewidth": 0,
                            "ticks": ""
                          }
                        },
                        "type": "scatterternary"
                      }
                    ],
                    "surface": [
                      {
                        "colorbar": {
                          "outlinewidth": 0,
                          "ticks": ""
                        },
                        "colorscale": [
                          [
                            0,
                            "#0d0887"
                          ],
                          [
                            0.1111111111111111,
                            "#46039f"
                          ],
                          [
                            0.2222222222222222,
                            "#7201a8"
                          ],
                          [
                            0.3333333333333333,
                            "#9c179e"
                          ],
                          [
                            0.4444444444444444,
                            "#bd3786"
                          ],
                          [
                            0.5555555555555556,
                            "#d8576b"
                          ],
                          [
                            0.6666666666666666,
                            "#ed7953"
                          ],
                          [
                            0.7777777777777778,
                            "#fb9f3a"
                          ],
                          [
                            0.8888888888888888,
                            "#fdca26"
                          ],
                          [
                            1,
                            "#f0f921"
                          ]
                        ],
                        "type": "surface"
                      }
                    ],
                    "table": [
                      {
                        "cells": {
                          "fill": {
                            "color": "#EBF0F8"
                          },
                          "line": {
                            "color": "white"
                          }
                        },
                        "header": {
                          "fill": {
                            "color": "#C8D4E3"
                          },
                          "line": {
                            "color": "white"
                          }
                        },
                        "type": "table"
                      }
                    ]
                  },
                  "layout": {
                    "annotationdefaults": {
                      "arrowcolor": "#2a3f5f",
                      "arrowhead": 0,
                      "arrowwidth": 1
                    },
                    "autotypenumbers": "strict",
                    "coloraxis": {
                      "colorbar": {
                        "outlinewidth": 0,
                        "ticks": ""
                      }
                    },
                    "colorscale": {
                      "diverging": [
                        [
                          0,
                          "#8e0152"
                        ],
                        [
                          0.1,
                          "#c51b7d"
                        ],
                        [
                          0.2,
                          "#de77ae"
                        ],
                        [
                          0.3,
                          "#f1b6da"
                        ],
                        [
                          0.4,
                          "#fde0ef"
                        ],
                        [
                          0.5,
                          "#f7f7f7"
                        ],
                        [
                          0.6,
                          "#e6f5d0"
                        ],
                        [
                          0.7,
                          "#b8e186"
                        ],
                        [
                          0.8,
                          "#7fbc41"
                        ],
                        [
                          0.9,
                          "#4d9221"
                        ],
                        [
                          1,
                          "#276419"
                        ]
                      ],
                      "sequential": [
                        [
                          0,
                          "#0d0887"
                        ],
                        [
                          0.1111111111111111,
                          "#46039f"
                        ],
                        [
                          0.2222222222222222,
                          "#7201a8"
                        ],
                        [
                          0.3333333333333333,
                          "#9c179e"
                        ],
                        [
                          0.4444444444444444,
                          "#bd3786"
                        ],
                        [
                          0.5555555555555556,
                          "#d8576b"
                        ],
                        [
                          0.6666666666666666,
                          "#ed7953"
                        ],
                        [
                          0.7777777777777778,
                          "#fb9f3a"
                        ],
                        [
                          0.8888888888888888,
                          "#fdca26"
                        ],
                        [
                          1,
                          "#f0f921"
                        ]
                      ],
                      "sequentialminus": [
                        [
                          0,
                          "#0d0887"
                        ],
                        [
                          0.1111111111111111,
                          "#46039f"
                        ],
                        [
                          0.2222222222222222,
                          "#7201a8"
                        ],
                        [
                          0.3333333333333333,
                          "#9c179e"
                        ],
                        [
                          0.4444444444444444,
                          "#bd3786"
                        ],
                        [
                          0.5555555555555556,
                          "#d8576b"
                        ],
                        [
                          0.6666666666666666,
                          "#ed7953"
                        ],
                        [
                          0.7777777777777778,
                          "#fb9f3a"
                        ],
                        [
                          0.8888888888888888,
                          "#fdca26"
                        ],
                        [
                          1,
                          "#f0f921"
                        ]
                      ]
                    },
                    "colorway": [
                      "#636efa",
                      "#EF553B",
                      "#00cc96",
                      "#ab63fa",
                      "#FFA15A",
                      "#19d3f3",
                      "#FF6692",
                      "#B6E880",
                      "#FF97FF",
                      "#FECB52"
                    ],
                    "font": {
                      "color": "#2a3f5f"
                    },
                    "geo": {
                      "bgcolor": "white",
                      "lakecolor": "white",
                      "landcolor": "#E5ECF6",
                      "showlakes": true,
                      "showland": true,
                      "subunitcolor": "white"
                    },
                    "hoverlabel": {
                      "align": "left"
                    },
                    "hovermode": "closest",
                    "mapbox": {
                      "style": "light"
                    },
                    "paper_bgcolor": "white",
                    "plot_bgcolor": "#E5ECF6",
                    "polar": {
                      "angularaxis": {
                        "gridcolor": "white",
                        "linecolor": "white",
                        "ticks": ""
                      },
                      "bgcolor": "#E5ECF6",
                      "radialaxis": {
                        "gridcolor": "white",
                        "linecolor": "white",
                        "ticks": ""
                      }
                    },
                    "scene": {
                      "xaxis": {
                        "backgroundcolor": "#E5ECF6",
                        "gridcolor": "white",
                        "gridwidth": 2,
                        "linecolor": "white",
                        "showbackground": true,
                        "ticks": "",
                        "zerolinecolor": "white"
                      },
                      "yaxis": {
                        "backgroundcolor": "#E5ECF6",
                        "gridcolor": "white",
                        "gridwidth": 2,
                        "linecolor": "white",
                        "showbackground": true,
                        "ticks": "",
                        "zerolinecolor": "white"
                      },
                      "zaxis": {
                        "backgroundcolor": "#E5ECF6",
                        "gridcolor": "white",
                        "gridwidth": 2,
                        "linecolor": "white",
                        "showbackground": true,
                        "ticks": "",
                        "zerolinecolor": "white"
                      }
                    },
                    "shapedefaults": {
                      "line": {
                        "color": "#2a3f5f"
                      }
                    },
                    "ternary": {
                      "aaxis": {
                        "gridcolor": "white",
                        "linecolor": "white",
                        "ticks": ""
                      },
                      "baxis": {
                        "gridcolor": "white",
                        "linecolor": "white",
                        "ticks": ""
                      },
                      "bgcolor": "#E5ECF6",
                      "caxis": {
                        "gridcolor": "white",
                        "linecolor": "white",
                        "ticks": ""
                      }
                    },
                    "title": {
                      "x": 0.05
                    },
                    "xaxis": {
                      "automargin": true,
                      "gridcolor": "white",
                      "linecolor": "white",
                      "ticks": "",
                      "title": {
                        "standoff": 15
                      },
                      "zerolinecolor": "white",
                      "zerolinewidth": 2
                    },
                    "yaxis": {
                      "automargin": true,
                      "gridcolor": "white",
                      "linecolor": "white",
                      "ticks": "",
                      "title": {
                        "standoff": 15
                      },
                      "zerolinecolor": "white",
                      "zerolinewidth": 2
                    }
                  }
                },
                "xaxis": {
                  "anchor": "y",
                  "constrain": "domain",
                  "domain": [
                    0,
                    1
                  ],
                  "scaleanchor": "y"
                },
                "yaxis": {
                  "anchor": "x",
                  "autorange": "reversed",
                  "constrain": "domain",
                  "domain": [
                    0,
                    1
                  ]
                }
              }
            }
          },
          "metadata": {},
          "output_type": "display_data"
        }
      ],
      "source": [
        "numeric_cols = [k for k, v in desc.items() if v[\"tipo\"] in (\"float64\", \"int\")]\n",
        "\n",
        "corrs = lifeStyleData.corr(numeric_only=True)\n",
        "px.imshow(corrs)"
      ]
    },
    {
      "cell_type": "code",
      "execution_count": 63,
      "metadata": {},
      "outputs": [
        {
          "name": "stdout",
          "output_type": "stream",
          "text": [
            "Weight (kg) lean_mass_kg 0.9818932250674055\n",
            "BMI BMI_calc 0.9999999066490957\n",
            "Carbs Proteins 0.9995948479721294\n",
            "Carbs Fats 0.9996053711793846\n",
            "Carbs cal_from_macros 0.9999237882640237\n",
            "Proteins Fats 0.9996081263907582\n",
            "Proteins cal_from_macros 0.9998030648624066\n",
            "Fats cal_from_macros 0.9998475445315128\n",
            "pct_HRR pct_maxHR 0.9884855669319657\n"
          ]
        }
      ],
      "source": [
        "for i in range(len(numeric_cols)-1):\n",
        "    col1 = numeric_cols[i]\n",
        "    for j in range(i+1, len(numeric_cols)):\n",
        "        col2 = numeric_cols[j]\n",
        "        if (c := corrs[col1][col2]) > 0.98:\n",
        "            print(col1, col2, c)"
      ]
    },
    {
      "cell_type": "markdown",
      "metadata": {},
      "source": [
        "Hay algunas correlaciones muy fuertes (por encima del 0.98):\n",
        "- Carbs, proteins y fats entre ellas, y cualquiera de ellas con cal_from_macros\n",
        "- pct_maxHR con pct_HRR\n",
        "- Weight (kg) con lean_mass_kg\n",
        "- BMI con BMI_calc\n",
        "\n",
        "La primera implica una clara correlación entre los distintos nutrientes. Las otras tres tienen sentido ya que parecen representar prácticamente lo mismo."
      ]
    },
    {
      "cell_type": "markdown",
      "metadata": {
        "id": "xfw0EHuoUCk_"
      },
      "source": [
        "## Ejercicio 3 — Regresión básica (2 puntos)\n",
        "\n",
        "Queremos predecir una variable de salud continua, por ejemplo bmi.\n",
        "\n",
        "a) (0.25 pts) Define targetVar = \"bmi\" y selecciona 2–3 variables predictoras (por ejemplo sleepHours, activityLevel, calories). Guarda las columnas predictoras en X y la variable objetivo en y."
      ]
    },
    {
      "cell_type": "code",
      "execution_count": 156,
      "metadata": {
        "id": "3lGCNguAUGZe"
      },
      "outputs": [
        {
          "name": "stdout",
          "output_type": "stream",
          "text": [
            "BMI                               1.000000\n",
            "BMI_calc                          1.000000\n",
            "Fat_Percentage                    0.902399\n",
            "Weight (kg)                       0.855569\n",
            "Calories                          0.837504\n",
            "lean_mass_kg                      0.769278\n",
            "cal_balance                       0.632617\n",
            "Water_Intake (liters)             0.214094\n",
            "Burns Calories (per 30 min)_bc    0.211213\n",
            "Max_BPM                           0.073351\n",
            "Name: BMI, dtype: float64\n"
          ]
        }
      ],
      "source": [
        "print(corrs[\"BMI\"].sort_values(ascending=False).head(10))\n",
        "\n",
        "targetVar = \"BMI\"\n",
        "predVars = [\"Fat_Percentage\", \"Calories\", \"Water_Intake (liters)\"]\n",
        "\n",
        "X = lifeStyleData[predVars]\n",
        "y = lifeStyleData[targetVar]"
      ]
    },
    {
      "cell_type": "markdown",
      "metadata": {
        "id": "8TpJdONMUGuE"
      },
      "source": [
        "b) (0.25 pts) Divide los datos en entrenamiento (70 %) y prueba (30 %)."
      ]
    },
    {
      "cell_type": "code",
      "execution_count": 157,
      "metadata": {
        "id": "d7q5Q7SNUP-G"
      },
      "outputs": [],
      "source": [
        "X_train, X_test, y_train, y_test = train_test_split(X, y, test_size = 0.3, random_state = 123)"
      ]
    },
    {
      "cell_type": "markdown",
      "metadata": {
        "id": "yGs8HngOUR7K"
      },
      "source": [
        "c) (0.75 pts) Entrena un modelo de regresión lineal (LinearRegression) y calcula el R² y el MSE."
      ]
    },
    {
      "cell_type": "code",
      "execution_count": 161,
      "metadata": {
        "id": "nkH-KfUrUSv0"
      },
      "outputs": [
        {
          "name": "stdout",
          "output_type": "stream",
          "text": [
            "R2: 0.8721451899597095\n",
            "MSE: 5.745498148651757\n",
            "Test R2: 0.8722575574784991\n",
            "Test MSE: 5.7148338359217945\n"
          ]
        }
      ],
      "source": [
        "model1 = LinearRegression()\n",
        "model1.fit(X_train, y_train)\n",
        "\n",
        "y_pred = model1.predict(X_train)\n",
        "print(\"R2:\", r2_score(y_train, y_pred))\n",
        "print(\"MSE:\", mean_squared_error(y_train, y_pred))\n",
        "\n",
        "y_pred = model1.predict(X_test)\n",
        "print(\"Test R2:\", r2_score(y_test, y_pred))\n",
        "print(\"Test MSE:\", mean_squared_error(y_test, y_pred))"
      ]
    },
    {
      "cell_type": "markdown",
      "metadata": {
        "id": "fozoFa3vUTah"
      },
      "source": [
        "d) (0.75 pts) Entrena un RandomForestRegressor con los mismos datos y compara resultados. ¿Cuál tiene mejor rendimiento?"
      ]
    },
    {
      "cell_type": "code",
      "execution_count": 160,
      "metadata": {
        "id": "0Me5YnFVUcPQ"
      },
      "outputs": [
        {
          "name": "stdout",
          "output_type": "stream",
          "text": [
            "R2: 0.9859484189478512\n",
            "MSE: 0.631445409799673\n",
            "Test R2: 0.9007985817478136\n",
            "Test MSE: 4.437989523361463\n"
          ]
        }
      ],
      "source": [
        "model2 = Pipeline(steps=[\n",
        "    ('scaler', StandardScaler()),\n",
        "    ('rf', RandomForestRegressor())\n",
        "])\n",
        "model2.fit(X_train, y_train)\n",
        "\n",
        "y_pred = model2.predict(X_train)\n",
        "print(\"R2:\", r2_score(y_train, y_pred))\n",
        "print(\"MSE:\", mean_squared_error(y_train, y_pred))\n",
        "\n",
        "y_pred = model2.predict(X_test)\n",
        "print(\"Test R2:\", r2_score(y_test, y_pred))\n",
        "print(\"Test MSE:\", mean_squared_error(y_test, y_pred))"
      ]
    },
    {
      "cell_type": "markdown",
      "metadata": {},
      "source": [
        "El Random Forest tiene mejor rendimiento, subiendo el R2 de 0.87 a 0.90. El MSE también mejora ligeramente"
      ]
    },
    {
      "cell_type": "markdown",
      "metadata": {
        "id": "DIupTYHLUd4I"
      },
      "source": [
        "## Ejercicio 4 — Clasificación sencilla (2 puntos)\n",
        "\n",
        "Crea una nueva variable binaria que indique si el IMC está dentro del rango saludable.\n",
        "\n",
        "a) (0.25 pts) Crea una nueva columna bmiHealthy donde el valor sea 1 si bmi está entre 18.5 y 24.9, y 0 en caso contrario."
      ]
    },
    {
      "cell_type": "code",
      "execution_count": 163,
      "metadata": {
        "id": "c95n3xjoUhbk"
      },
      "outputs": [
        {
          "data": {
            "text/html": [
              "<div>\n",
              "<style scoped>\n",
              "    .dataframe tbody tr th:only-of-type {\n",
              "        vertical-align: middle;\n",
              "    }\n",
              "\n",
              "    .dataframe tbody tr th {\n",
              "        vertical-align: top;\n",
              "    }\n",
              "\n",
              "    .dataframe thead th {\n",
              "        text-align: right;\n",
              "    }\n",
              "</style>\n",
              "<table border=\"1\" class=\"dataframe\">\n",
              "  <thead>\n",
              "    <tr style=\"text-align: right;\">\n",
              "      <th></th>\n",
              "      <th>BMI</th>\n",
              "      <th>bmiHealthy</th>\n",
              "    </tr>\n",
              "  </thead>\n",
              "  <tbody>\n",
              "    <tr>\n",
              "      <th>0</th>\n",
              "      <td>24.87</td>\n",
              "      <td>1</td>\n",
              "    </tr>\n",
              "    <tr>\n",
              "      <th>1</th>\n",
              "      <td>23.48</td>\n",
              "      <td>1</td>\n",
              "    </tr>\n",
              "    <tr>\n",
              "      <th>2</th>\n",
              "      <td>21.15</td>\n",
              "      <td>1</td>\n",
              "    </tr>\n",
              "    <tr>\n",
              "      <th>3</th>\n",
              "      <td>32.45</td>\n",
              "      <td>0</td>\n",
              "    </tr>\n",
              "    <tr>\n",
              "      <th>4</th>\n",
              "      <td>14.83</td>\n",
              "      <td>0</td>\n",
              "    </tr>\n",
              "  </tbody>\n",
              "</table>\n",
              "</div>"
            ],
            "text/plain": [
              "     BMI  bmiHealthy\n",
              "0  24.87           1\n",
              "1  23.48           1\n",
              "2  21.15           1\n",
              "3  32.45           0\n",
              "4  14.83           0"
            ]
          },
          "execution_count": 163,
          "metadata": {},
          "output_type": "execute_result"
        }
      ],
      "source": [
        "lifeStyleData[\"bmiHealthy\"] = lifeStyleData.apply(lambda row: 1 if saludable(row[\"BMI\"]) == \"Saludable\" else 0, axis=1)\n",
        "lifeStyleData[[\"BMI\", \"bmiHealthy\"]].head()"
      ]
    },
    {
      "cell_type": "markdown",
      "metadata": {
        "id": "F65J5M78Uhus"
      },
      "source": [
        "b) (0.75 pts) Entrena un modelo de regresión logística (LogisticRegression) para predecir bmiHealthy usando algunas variables de estilo de vida (por ejemplo sleepHours, activityLevel, calories)."
      ]
    },
    {
      "cell_type": "code",
      "execution_count": 164,
      "metadata": {
        "id": "L0bX3dbvUjpC"
      },
      "outputs": [
        {
          "name": "stdout",
          "output_type": "stream",
          "text": [
            "bmiHealthy                       1.000000\n",
            "protein_per_kg                   0.130454\n",
            "Experience_Level                 0.109782\n",
            "Session_Duration (hours)         0.099699\n",
            "Workout_Frequency (days/week)    0.095672\n",
            "Calories_Burned                  0.094653\n",
            "expected_burn                    0.090545\n",
            "cholesterol_mg                   0.053301\n",
            "Height (m)                       0.040314\n",
            "sodium_mg                        0.025612\n",
            "Name: bmiHealthy, dtype: float64\n"
          ]
        }
      ],
      "source": [
        "print(lifeStyleData.corr(numeric_only=True)[\"bmiHealthy\"].sort_values(ascending=False).head(10))\n",
        "\n",
        "targetVar = \"bmiHealthy\"\n",
        "predVars = [\"protein_per_kg\", \"Session_Duration (hours)\", \"Experience_Level\", \"Workout_Frequency (days/week)\", \"Calories_Burned\"]\n",
        "\n",
        "X = lifeStyleData[predVars]\n",
        "y = lifeStyleData[targetVar]\n",
        "X_train, X_test, y_train, y_test = train_test_split(X, y, test_size = 0.3, random_state = 123)"
      ]
    },
    {
      "cell_type": "code",
      "execution_count": 165,
      "metadata": {},
      "outputs": [
        {
          "data": {
            "text/html": [
              "<style>#sk-container-id-11 {\n",
              "  /* Definition of color scheme common for light and dark mode */\n",
              "  --sklearn-color-text: #000;\n",
              "  --sklearn-color-text-muted: #666;\n",
              "  --sklearn-color-line: gray;\n",
              "  /* Definition of color scheme for unfitted estimators */\n",
              "  --sklearn-color-unfitted-level-0: #fff5e6;\n",
              "  --sklearn-color-unfitted-level-1: #f6e4d2;\n",
              "  --sklearn-color-unfitted-level-2: #ffe0b3;\n",
              "  --sklearn-color-unfitted-level-3: chocolate;\n",
              "  /* Definition of color scheme for fitted estimators */\n",
              "  --sklearn-color-fitted-level-0: #f0f8ff;\n",
              "  --sklearn-color-fitted-level-1: #d4ebff;\n",
              "  --sklearn-color-fitted-level-2: #b3dbfd;\n",
              "  --sklearn-color-fitted-level-3: cornflowerblue;\n",
              "\n",
              "  /* Specific color for light theme */\n",
              "  --sklearn-color-text-on-default-background: var(--sg-text-color, var(--theme-code-foreground, var(--jp-content-font-color1, black)));\n",
              "  --sklearn-color-background: var(--sg-background-color, var(--theme-background, var(--jp-layout-color0, white)));\n",
              "  --sklearn-color-border-box: var(--sg-text-color, var(--theme-code-foreground, var(--jp-content-font-color1, black)));\n",
              "  --sklearn-color-icon: #696969;\n",
              "\n",
              "  @media (prefers-color-scheme: dark) {\n",
              "    /* Redefinition of color scheme for dark theme */\n",
              "    --sklearn-color-text-on-default-background: var(--sg-text-color, var(--theme-code-foreground, var(--jp-content-font-color1, white)));\n",
              "    --sklearn-color-background: var(--sg-background-color, var(--theme-background, var(--jp-layout-color0, #111)));\n",
              "    --sklearn-color-border-box: var(--sg-text-color, var(--theme-code-foreground, var(--jp-content-font-color1, white)));\n",
              "    --sklearn-color-icon: #878787;\n",
              "  }\n",
              "}\n",
              "\n",
              "#sk-container-id-11 {\n",
              "  color: var(--sklearn-color-text);\n",
              "}\n",
              "\n",
              "#sk-container-id-11 pre {\n",
              "  padding: 0;\n",
              "}\n",
              "\n",
              "#sk-container-id-11 input.sk-hidden--visually {\n",
              "  border: 0;\n",
              "  clip: rect(1px 1px 1px 1px);\n",
              "  clip: rect(1px, 1px, 1px, 1px);\n",
              "  height: 1px;\n",
              "  margin: -1px;\n",
              "  overflow: hidden;\n",
              "  padding: 0;\n",
              "  position: absolute;\n",
              "  width: 1px;\n",
              "}\n",
              "\n",
              "#sk-container-id-11 div.sk-dashed-wrapped {\n",
              "  border: 1px dashed var(--sklearn-color-line);\n",
              "  margin: 0 0.4em 0.5em 0.4em;\n",
              "  box-sizing: border-box;\n",
              "  padding-bottom: 0.4em;\n",
              "  background-color: var(--sklearn-color-background);\n",
              "}\n",
              "\n",
              "#sk-container-id-11 div.sk-container {\n",
              "  /* jupyter's `normalize.less` sets `[hidden] { display: none; }`\n",
              "     but bootstrap.min.css set `[hidden] { display: none !important; }`\n",
              "     so we also need the `!important` here to be able to override the\n",
              "     default hidden behavior on the sphinx rendered scikit-learn.org.\n",
              "     See: https://github.com/scikit-learn/scikit-learn/issues/21755 */\n",
              "  display: inline-block !important;\n",
              "  position: relative;\n",
              "}\n",
              "\n",
              "#sk-container-id-11 div.sk-text-repr-fallback {\n",
              "  display: none;\n",
              "}\n",
              "\n",
              "div.sk-parallel-item,\n",
              "div.sk-serial,\n",
              "div.sk-item {\n",
              "  /* draw centered vertical line to link estimators */\n",
              "  background-image: linear-gradient(var(--sklearn-color-text-on-default-background), var(--sklearn-color-text-on-default-background));\n",
              "  background-size: 2px 100%;\n",
              "  background-repeat: no-repeat;\n",
              "  background-position: center center;\n",
              "}\n",
              "\n",
              "/* Parallel-specific style estimator block */\n",
              "\n",
              "#sk-container-id-11 div.sk-parallel-item::after {\n",
              "  content: \"\";\n",
              "  width: 100%;\n",
              "  border-bottom: 2px solid var(--sklearn-color-text-on-default-background);\n",
              "  flex-grow: 1;\n",
              "}\n",
              "\n",
              "#sk-container-id-11 div.sk-parallel {\n",
              "  display: flex;\n",
              "  align-items: stretch;\n",
              "  justify-content: center;\n",
              "  background-color: var(--sklearn-color-background);\n",
              "  position: relative;\n",
              "}\n",
              "\n",
              "#sk-container-id-11 div.sk-parallel-item {\n",
              "  display: flex;\n",
              "  flex-direction: column;\n",
              "}\n",
              "\n",
              "#sk-container-id-11 div.sk-parallel-item:first-child::after {\n",
              "  align-self: flex-end;\n",
              "  width: 50%;\n",
              "}\n",
              "\n",
              "#sk-container-id-11 div.sk-parallel-item:last-child::after {\n",
              "  align-self: flex-start;\n",
              "  width: 50%;\n",
              "}\n",
              "\n",
              "#sk-container-id-11 div.sk-parallel-item:only-child::after {\n",
              "  width: 0;\n",
              "}\n",
              "\n",
              "/* Serial-specific style estimator block */\n",
              "\n",
              "#sk-container-id-11 div.sk-serial {\n",
              "  display: flex;\n",
              "  flex-direction: column;\n",
              "  align-items: center;\n",
              "  background-color: var(--sklearn-color-background);\n",
              "  padding-right: 1em;\n",
              "  padding-left: 1em;\n",
              "}\n",
              "\n",
              "\n",
              "/* Toggleable style: style used for estimator/Pipeline/ColumnTransformer box that is\n",
              "clickable and can be expanded/collapsed.\n",
              "- Pipeline and ColumnTransformer use this feature and define the default style\n",
              "- Estimators will overwrite some part of the style using the `sk-estimator` class\n",
              "*/\n",
              "\n",
              "/* Pipeline and ColumnTransformer style (default) */\n",
              "\n",
              "#sk-container-id-11 div.sk-toggleable {\n",
              "  /* Default theme specific background. It is overwritten whether we have a\n",
              "  specific estimator or a Pipeline/ColumnTransformer */\n",
              "  background-color: var(--sklearn-color-background);\n",
              "}\n",
              "\n",
              "/* Toggleable label */\n",
              "#sk-container-id-11 label.sk-toggleable__label {\n",
              "  cursor: pointer;\n",
              "  display: flex;\n",
              "  width: 100%;\n",
              "  margin-bottom: 0;\n",
              "  padding: 0.5em;\n",
              "  box-sizing: border-box;\n",
              "  text-align: center;\n",
              "  align-items: start;\n",
              "  justify-content: space-between;\n",
              "  gap: 0.5em;\n",
              "}\n",
              "\n",
              "#sk-container-id-11 label.sk-toggleable__label .caption {\n",
              "  font-size: 0.6rem;\n",
              "  font-weight: lighter;\n",
              "  color: var(--sklearn-color-text-muted);\n",
              "}\n",
              "\n",
              "#sk-container-id-11 label.sk-toggleable__label-arrow:before {\n",
              "  /* Arrow on the left of the label */\n",
              "  content: \"▸\";\n",
              "  float: left;\n",
              "  margin-right: 0.25em;\n",
              "  color: var(--sklearn-color-icon);\n",
              "}\n",
              "\n",
              "#sk-container-id-11 label.sk-toggleable__label-arrow:hover:before {\n",
              "  color: var(--sklearn-color-text);\n",
              "}\n",
              "\n",
              "/* Toggleable content - dropdown */\n",
              "\n",
              "#sk-container-id-11 div.sk-toggleable__content {\n",
              "  display: none;\n",
              "  text-align: left;\n",
              "  /* unfitted */\n",
              "  background-color: var(--sklearn-color-unfitted-level-0);\n",
              "}\n",
              "\n",
              "#sk-container-id-11 div.sk-toggleable__content.fitted {\n",
              "  /* fitted */\n",
              "  background-color: var(--sklearn-color-fitted-level-0);\n",
              "}\n",
              "\n",
              "#sk-container-id-11 div.sk-toggleable__content pre {\n",
              "  margin: 0.2em;\n",
              "  border-radius: 0.25em;\n",
              "  color: var(--sklearn-color-text);\n",
              "  /* unfitted */\n",
              "  background-color: var(--sklearn-color-unfitted-level-0);\n",
              "}\n",
              "\n",
              "#sk-container-id-11 div.sk-toggleable__content.fitted pre {\n",
              "  /* unfitted */\n",
              "  background-color: var(--sklearn-color-fitted-level-0);\n",
              "}\n",
              "\n",
              "#sk-container-id-11 input.sk-toggleable__control:checked~div.sk-toggleable__content {\n",
              "  /* Expand drop-down */\n",
              "  display: block;\n",
              "  width: 100%;\n",
              "  overflow: visible;\n",
              "}\n",
              "\n",
              "#sk-container-id-11 input.sk-toggleable__control:checked~label.sk-toggleable__label-arrow:before {\n",
              "  content: \"▾\";\n",
              "}\n",
              "\n",
              "/* Pipeline/ColumnTransformer-specific style */\n",
              "\n",
              "#sk-container-id-11 div.sk-label input.sk-toggleable__control:checked~label.sk-toggleable__label {\n",
              "  color: var(--sklearn-color-text);\n",
              "  background-color: var(--sklearn-color-unfitted-level-2);\n",
              "}\n",
              "\n",
              "#sk-container-id-11 div.sk-label.fitted input.sk-toggleable__control:checked~label.sk-toggleable__label {\n",
              "  background-color: var(--sklearn-color-fitted-level-2);\n",
              "}\n",
              "\n",
              "/* Estimator-specific style */\n",
              "\n",
              "/* Colorize estimator box */\n",
              "#sk-container-id-11 div.sk-estimator input.sk-toggleable__control:checked~label.sk-toggleable__label {\n",
              "  /* unfitted */\n",
              "  background-color: var(--sklearn-color-unfitted-level-2);\n",
              "}\n",
              "\n",
              "#sk-container-id-11 div.sk-estimator.fitted input.sk-toggleable__control:checked~label.sk-toggleable__label {\n",
              "  /* fitted */\n",
              "  background-color: var(--sklearn-color-fitted-level-2);\n",
              "}\n",
              "\n",
              "#sk-container-id-11 div.sk-label label.sk-toggleable__label,\n",
              "#sk-container-id-11 div.sk-label label {\n",
              "  /* The background is the default theme color */\n",
              "  color: var(--sklearn-color-text-on-default-background);\n",
              "}\n",
              "\n",
              "/* On hover, darken the color of the background */\n",
              "#sk-container-id-11 div.sk-label:hover label.sk-toggleable__label {\n",
              "  color: var(--sklearn-color-text);\n",
              "  background-color: var(--sklearn-color-unfitted-level-2);\n",
              "}\n",
              "\n",
              "/* Label box, darken color on hover, fitted */\n",
              "#sk-container-id-11 div.sk-label.fitted:hover label.sk-toggleable__label.fitted {\n",
              "  color: var(--sklearn-color-text);\n",
              "  background-color: var(--sklearn-color-fitted-level-2);\n",
              "}\n",
              "\n",
              "/* Estimator label */\n",
              "\n",
              "#sk-container-id-11 div.sk-label label {\n",
              "  font-family: monospace;\n",
              "  font-weight: bold;\n",
              "  display: inline-block;\n",
              "  line-height: 1.2em;\n",
              "}\n",
              "\n",
              "#sk-container-id-11 div.sk-label-container {\n",
              "  text-align: center;\n",
              "}\n",
              "\n",
              "/* Estimator-specific */\n",
              "#sk-container-id-11 div.sk-estimator {\n",
              "  font-family: monospace;\n",
              "  border: 1px dotted var(--sklearn-color-border-box);\n",
              "  border-radius: 0.25em;\n",
              "  box-sizing: border-box;\n",
              "  margin-bottom: 0.5em;\n",
              "  /* unfitted */\n",
              "  background-color: var(--sklearn-color-unfitted-level-0);\n",
              "}\n",
              "\n",
              "#sk-container-id-11 div.sk-estimator.fitted {\n",
              "  /* fitted */\n",
              "  background-color: var(--sklearn-color-fitted-level-0);\n",
              "}\n",
              "\n",
              "/* on hover */\n",
              "#sk-container-id-11 div.sk-estimator:hover {\n",
              "  /* unfitted */\n",
              "  background-color: var(--sklearn-color-unfitted-level-2);\n",
              "}\n",
              "\n",
              "#sk-container-id-11 div.sk-estimator.fitted:hover {\n",
              "  /* fitted */\n",
              "  background-color: var(--sklearn-color-fitted-level-2);\n",
              "}\n",
              "\n",
              "/* Specification for estimator info (e.g. \"i\" and \"?\") */\n",
              "\n",
              "/* Common style for \"i\" and \"?\" */\n",
              "\n",
              ".sk-estimator-doc-link,\n",
              "a:link.sk-estimator-doc-link,\n",
              "a:visited.sk-estimator-doc-link {\n",
              "  float: right;\n",
              "  font-size: smaller;\n",
              "  line-height: 1em;\n",
              "  font-family: monospace;\n",
              "  background-color: var(--sklearn-color-background);\n",
              "  border-radius: 1em;\n",
              "  height: 1em;\n",
              "  width: 1em;\n",
              "  text-decoration: none !important;\n",
              "  margin-left: 0.5em;\n",
              "  text-align: center;\n",
              "  /* unfitted */\n",
              "  border: var(--sklearn-color-unfitted-level-1) 1pt solid;\n",
              "  color: var(--sklearn-color-unfitted-level-1);\n",
              "}\n",
              "\n",
              ".sk-estimator-doc-link.fitted,\n",
              "a:link.sk-estimator-doc-link.fitted,\n",
              "a:visited.sk-estimator-doc-link.fitted {\n",
              "  /* fitted */\n",
              "  border: var(--sklearn-color-fitted-level-1) 1pt solid;\n",
              "  color: var(--sklearn-color-fitted-level-1);\n",
              "}\n",
              "\n",
              "/* On hover */\n",
              "div.sk-estimator:hover .sk-estimator-doc-link:hover,\n",
              ".sk-estimator-doc-link:hover,\n",
              "div.sk-label-container:hover .sk-estimator-doc-link:hover,\n",
              ".sk-estimator-doc-link:hover {\n",
              "  /* unfitted */\n",
              "  background-color: var(--sklearn-color-unfitted-level-3);\n",
              "  color: var(--sklearn-color-background);\n",
              "  text-decoration: none;\n",
              "}\n",
              "\n",
              "div.sk-estimator.fitted:hover .sk-estimator-doc-link.fitted:hover,\n",
              ".sk-estimator-doc-link.fitted:hover,\n",
              "div.sk-label-container:hover .sk-estimator-doc-link.fitted:hover,\n",
              ".sk-estimator-doc-link.fitted:hover {\n",
              "  /* fitted */\n",
              "  background-color: var(--sklearn-color-fitted-level-3);\n",
              "  color: var(--sklearn-color-background);\n",
              "  text-decoration: none;\n",
              "}\n",
              "\n",
              "/* Span, style for the box shown on hovering the info icon */\n",
              ".sk-estimator-doc-link span {\n",
              "  display: none;\n",
              "  z-index: 9999;\n",
              "  position: relative;\n",
              "  font-weight: normal;\n",
              "  right: .2ex;\n",
              "  padding: .5ex;\n",
              "  margin: .5ex;\n",
              "  width: min-content;\n",
              "  min-width: 20ex;\n",
              "  max-width: 50ex;\n",
              "  color: var(--sklearn-color-text);\n",
              "  box-shadow: 2pt 2pt 4pt #999;\n",
              "  /* unfitted */\n",
              "  background: var(--sklearn-color-unfitted-level-0);\n",
              "  border: .5pt solid var(--sklearn-color-unfitted-level-3);\n",
              "}\n",
              "\n",
              ".sk-estimator-doc-link.fitted span {\n",
              "  /* fitted */\n",
              "  background: var(--sklearn-color-fitted-level-0);\n",
              "  border: var(--sklearn-color-fitted-level-3);\n",
              "}\n",
              "\n",
              ".sk-estimator-doc-link:hover span {\n",
              "  display: block;\n",
              "}\n",
              "\n",
              "/* \"?\"-specific style due to the `<a>` HTML tag */\n",
              "\n",
              "#sk-container-id-11 a.estimator_doc_link {\n",
              "  float: right;\n",
              "  font-size: 1rem;\n",
              "  line-height: 1em;\n",
              "  font-family: monospace;\n",
              "  background-color: var(--sklearn-color-background);\n",
              "  border-radius: 1rem;\n",
              "  height: 1rem;\n",
              "  width: 1rem;\n",
              "  text-decoration: none;\n",
              "  /* unfitted */\n",
              "  color: var(--sklearn-color-unfitted-level-1);\n",
              "  border: var(--sklearn-color-unfitted-level-1) 1pt solid;\n",
              "}\n",
              "\n",
              "#sk-container-id-11 a.estimator_doc_link.fitted {\n",
              "  /* fitted */\n",
              "  border: var(--sklearn-color-fitted-level-1) 1pt solid;\n",
              "  color: var(--sklearn-color-fitted-level-1);\n",
              "}\n",
              "\n",
              "/* On hover */\n",
              "#sk-container-id-11 a.estimator_doc_link:hover {\n",
              "  /* unfitted */\n",
              "  background-color: var(--sklearn-color-unfitted-level-3);\n",
              "  color: var(--sklearn-color-background);\n",
              "  text-decoration: none;\n",
              "}\n",
              "\n",
              "#sk-container-id-11 a.estimator_doc_link.fitted:hover {\n",
              "  /* fitted */\n",
              "  background-color: var(--sklearn-color-fitted-level-3);\n",
              "}\n",
              "\n",
              ".estimator-table summary {\n",
              "    padding: .5rem;\n",
              "    font-family: monospace;\n",
              "    cursor: pointer;\n",
              "}\n",
              "\n",
              ".estimator-table details[open] {\n",
              "    padding-left: 0.1rem;\n",
              "    padding-right: 0.1rem;\n",
              "    padding-bottom: 0.3rem;\n",
              "}\n",
              "\n",
              ".estimator-table .parameters-table {\n",
              "    margin-left: auto !important;\n",
              "    margin-right: auto !important;\n",
              "}\n",
              "\n",
              ".estimator-table .parameters-table tr:nth-child(odd) {\n",
              "    background-color: #fff;\n",
              "}\n",
              "\n",
              ".estimator-table .parameters-table tr:nth-child(even) {\n",
              "    background-color: #f6f6f6;\n",
              "}\n",
              "\n",
              ".estimator-table .parameters-table tr:hover {\n",
              "    background-color: #e0e0e0;\n",
              "}\n",
              "\n",
              ".estimator-table table td {\n",
              "    border: 1px solid rgba(106, 105, 104, 0.232);\n",
              "}\n",
              "\n",
              ".user-set td {\n",
              "    color:rgb(255, 94, 0);\n",
              "    text-align: left;\n",
              "}\n",
              "\n",
              ".user-set td.value pre {\n",
              "    color:rgb(255, 94, 0) !important;\n",
              "    background-color: transparent !important;\n",
              "}\n",
              "\n",
              ".default td {\n",
              "    color: black;\n",
              "    text-align: left;\n",
              "}\n",
              "\n",
              ".user-set td i,\n",
              ".default td i {\n",
              "    color: black;\n",
              "}\n",
              "\n",
              ".copy-paste-icon {\n",
              "    background-image: url(data:image/svg+xml;base64,PHN2ZyB4bWxucz0iaHR0cDovL3d3dy53My5vcmcvMjAwMC9zdmciIHZpZXdCb3g9IjAgMCA0NDggNTEyIj48IS0tIUZvbnQgQXdlc29tZSBGcmVlIDYuNy4yIGJ5IEBmb250YXdlc29tZSAtIGh0dHBzOi8vZm9udGF3ZXNvbWUuY29tIExpY2Vuc2UgLSBodHRwczovL2ZvbnRhd2Vzb21lLmNvbS9saWNlbnNlL2ZyZWUgQ29weXJpZ2h0IDIwMjUgRm9udGljb25zLCBJbmMuLS0+PHBhdGggZD0iTTIwOCAwTDMzMi4xIDBjMTIuNyAwIDI0LjkgNS4xIDMzLjkgMTQuMWw2Ny45IDY3LjljOSA5IDE0LjEgMjEuMiAxNC4xIDMzLjlMNDQ4IDMzNmMwIDI2LjUtMjEuNSA0OC00OCA0OGwtMTkyIDBjLTI2LjUgMC00OC0yMS41LTQ4LTQ4bDAtMjg4YzAtMjYuNSAyMS41LTQ4IDQ4LTQ4ek00OCAxMjhsODAgMCAwIDY0LTY0IDAgMCAyNTYgMTkyIDAgMC0zMiA2NCAwIDAgNDhjMCAyNi41LTIxLjUgNDgtNDggNDhMNDggNTEyYy0yNi41IDAtNDgtMjEuNS00OC00OEwwIDE3NmMwLTI2LjUgMjEuNS00OCA0OC00OHoiLz48L3N2Zz4=);\n",
              "    background-repeat: no-repeat;\n",
              "    background-size: 14px 14px;\n",
              "    background-position: 0;\n",
              "    display: inline-block;\n",
              "    width: 14px;\n",
              "    height: 14px;\n",
              "    cursor: pointer;\n",
              "}\n",
              "</style><body><div id=\"sk-container-id-11\" class=\"sk-top-container\"><div class=\"sk-text-repr-fallback\"><pre>Pipeline(steps=[(&#x27;scaler&#x27;, StandardScaler()), (&#x27;lr&#x27;, LogisticRegression())])</pre><b>In a Jupyter environment, please rerun this cell to show the HTML representation or trust the notebook. <br />On GitHub, the HTML representation is unable to render, please try loading this page with nbviewer.org.</b></div><div class=\"sk-container\" hidden><div class=\"sk-item sk-dashed-wrapped\"><div class=\"sk-label-container\"><div class=\"sk-label fitted sk-toggleable\"><input class=\"sk-toggleable__control sk-hidden--visually\" id=\"sk-estimator-id-23\" type=\"checkbox\" ><label for=\"sk-estimator-id-23\" class=\"sk-toggleable__label fitted sk-toggleable__label-arrow\"><div><div>Pipeline</div></div><div><a class=\"sk-estimator-doc-link fitted\" rel=\"noreferrer\" target=\"_blank\" href=\"https://scikit-learn.org/1.7/modules/generated/sklearn.pipeline.Pipeline.html\">?<span>Documentation for Pipeline</span></a><span class=\"sk-estimator-doc-link fitted\">i<span>Fitted</span></span></div></label><div class=\"sk-toggleable__content fitted\" data-param-prefix=\"\">\n",
              "        <div class=\"estimator-table\">\n",
              "            <details>\n",
              "                <summary>Parameters</summary>\n",
              "                <table class=\"parameters-table\">\n",
              "                  <tbody>\n",
              "                    \n",
              "        <tr class=\"user-set\">\n",
              "            <td><i class=\"copy-paste-icon\"\n",
              "                 onclick=\"copyToClipboard('steps',\n",
              "                          this.parentElement.nextElementSibling)\"\n",
              "            ></i></td>\n",
              "            <td class=\"param\">steps&nbsp;</td>\n",
              "            <td class=\"value\">[(&#x27;scaler&#x27;, ...), (&#x27;lr&#x27;, ...)]</td>\n",
              "        </tr>\n",
              "    \n",
              "\n",
              "        <tr class=\"default\">\n",
              "            <td><i class=\"copy-paste-icon\"\n",
              "                 onclick=\"copyToClipboard('transform_input',\n",
              "                          this.parentElement.nextElementSibling)\"\n",
              "            ></i></td>\n",
              "            <td class=\"param\">transform_input&nbsp;</td>\n",
              "            <td class=\"value\">None</td>\n",
              "        </tr>\n",
              "    \n",
              "\n",
              "        <tr class=\"default\">\n",
              "            <td><i class=\"copy-paste-icon\"\n",
              "                 onclick=\"copyToClipboard('memory',\n",
              "                          this.parentElement.nextElementSibling)\"\n",
              "            ></i></td>\n",
              "            <td class=\"param\">memory&nbsp;</td>\n",
              "            <td class=\"value\">None</td>\n",
              "        </tr>\n",
              "    \n",
              "\n",
              "        <tr class=\"default\">\n",
              "            <td><i class=\"copy-paste-icon\"\n",
              "                 onclick=\"copyToClipboard('verbose',\n",
              "                          this.parentElement.nextElementSibling)\"\n",
              "            ></i></td>\n",
              "            <td class=\"param\">verbose&nbsp;</td>\n",
              "            <td class=\"value\">False</td>\n",
              "        </tr>\n",
              "    \n",
              "                  </tbody>\n",
              "                </table>\n",
              "            </details>\n",
              "        </div>\n",
              "    </div></div></div><div class=\"sk-serial\"><div class=\"sk-item\"><div class=\"sk-estimator fitted sk-toggleable\"><input class=\"sk-toggleable__control sk-hidden--visually\" id=\"sk-estimator-id-24\" type=\"checkbox\" ><label for=\"sk-estimator-id-24\" class=\"sk-toggleable__label fitted sk-toggleable__label-arrow\"><div><div>StandardScaler</div></div><div><a class=\"sk-estimator-doc-link fitted\" rel=\"noreferrer\" target=\"_blank\" href=\"https://scikit-learn.org/1.7/modules/generated/sklearn.preprocessing.StandardScaler.html\">?<span>Documentation for StandardScaler</span></a></div></label><div class=\"sk-toggleable__content fitted\" data-param-prefix=\"scaler__\">\n",
              "        <div class=\"estimator-table\">\n",
              "            <details>\n",
              "                <summary>Parameters</summary>\n",
              "                <table class=\"parameters-table\">\n",
              "                  <tbody>\n",
              "                    \n",
              "        <tr class=\"default\">\n",
              "            <td><i class=\"copy-paste-icon\"\n",
              "                 onclick=\"copyToClipboard('copy',\n",
              "                          this.parentElement.nextElementSibling)\"\n",
              "            ></i></td>\n",
              "            <td class=\"param\">copy&nbsp;</td>\n",
              "            <td class=\"value\">True</td>\n",
              "        </tr>\n",
              "    \n",
              "\n",
              "        <tr class=\"default\">\n",
              "            <td><i class=\"copy-paste-icon\"\n",
              "                 onclick=\"copyToClipboard('with_mean',\n",
              "                          this.parentElement.nextElementSibling)\"\n",
              "            ></i></td>\n",
              "            <td class=\"param\">with_mean&nbsp;</td>\n",
              "            <td class=\"value\">True</td>\n",
              "        </tr>\n",
              "    \n",
              "\n",
              "        <tr class=\"default\">\n",
              "            <td><i class=\"copy-paste-icon\"\n",
              "                 onclick=\"copyToClipboard('with_std',\n",
              "                          this.parentElement.nextElementSibling)\"\n",
              "            ></i></td>\n",
              "            <td class=\"param\">with_std&nbsp;</td>\n",
              "            <td class=\"value\">True</td>\n",
              "        </tr>\n",
              "    \n",
              "                  </tbody>\n",
              "                </table>\n",
              "            </details>\n",
              "        </div>\n",
              "    </div></div></div><div class=\"sk-item\"><div class=\"sk-estimator fitted sk-toggleable\"><input class=\"sk-toggleable__control sk-hidden--visually\" id=\"sk-estimator-id-25\" type=\"checkbox\" ><label for=\"sk-estimator-id-25\" class=\"sk-toggleable__label fitted sk-toggleable__label-arrow\"><div><div>LogisticRegression</div></div><div><a class=\"sk-estimator-doc-link fitted\" rel=\"noreferrer\" target=\"_blank\" href=\"https://scikit-learn.org/1.7/modules/generated/sklearn.linear_model.LogisticRegression.html\">?<span>Documentation for LogisticRegression</span></a></div></label><div class=\"sk-toggleable__content fitted\" data-param-prefix=\"lr__\">\n",
              "        <div class=\"estimator-table\">\n",
              "            <details>\n",
              "                <summary>Parameters</summary>\n",
              "                <table class=\"parameters-table\">\n",
              "                  <tbody>\n",
              "                    \n",
              "        <tr class=\"default\">\n",
              "            <td><i class=\"copy-paste-icon\"\n",
              "                 onclick=\"copyToClipboard('penalty',\n",
              "                          this.parentElement.nextElementSibling)\"\n",
              "            ></i></td>\n",
              "            <td class=\"param\">penalty&nbsp;</td>\n",
              "            <td class=\"value\">&#x27;l2&#x27;</td>\n",
              "        </tr>\n",
              "    \n",
              "\n",
              "        <tr class=\"default\">\n",
              "            <td><i class=\"copy-paste-icon\"\n",
              "                 onclick=\"copyToClipboard('dual',\n",
              "                          this.parentElement.nextElementSibling)\"\n",
              "            ></i></td>\n",
              "            <td class=\"param\">dual&nbsp;</td>\n",
              "            <td class=\"value\">False</td>\n",
              "        </tr>\n",
              "    \n",
              "\n",
              "        <tr class=\"default\">\n",
              "            <td><i class=\"copy-paste-icon\"\n",
              "                 onclick=\"copyToClipboard('tol',\n",
              "                          this.parentElement.nextElementSibling)\"\n",
              "            ></i></td>\n",
              "            <td class=\"param\">tol&nbsp;</td>\n",
              "            <td class=\"value\">0.0001</td>\n",
              "        </tr>\n",
              "    \n",
              "\n",
              "        <tr class=\"default\">\n",
              "            <td><i class=\"copy-paste-icon\"\n",
              "                 onclick=\"copyToClipboard('C',\n",
              "                          this.parentElement.nextElementSibling)\"\n",
              "            ></i></td>\n",
              "            <td class=\"param\">C&nbsp;</td>\n",
              "            <td class=\"value\">1.0</td>\n",
              "        </tr>\n",
              "    \n",
              "\n",
              "        <tr class=\"default\">\n",
              "            <td><i class=\"copy-paste-icon\"\n",
              "                 onclick=\"copyToClipboard('fit_intercept',\n",
              "                          this.parentElement.nextElementSibling)\"\n",
              "            ></i></td>\n",
              "            <td class=\"param\">fit_intercept&nbsp;</td>\n",
              "            <td class=\"value\">True</td>\n",
              "        </tr>\n",
              "    \n",
              "\n",
              "        <tr class=\"default\">\n",
              "            <td><i class=\"copy-paste-icon\"\n",
              "                 onclick=\"copyToClipboard('intercept_scaling',\n",
              "                          this.parentElement.nextElementSibling)\"\n",
              "            ></i></td>\n",
              "            <td class=\"param\">intercept_scaling&nbsp;</td>\n",
              "            <td class=\"value\">1</td>\n",
              "        </tr>\n",
              "    \n",
              "\n",
              "        <tr class=\"default\">\n",
              "            <td><i class=\"copy-paste-icon\"\n",
              "                 onclick=\"copyToClipboard('class_weight',\n",
              "                          this.parentElement.nextElementSibling)\"\n",
              "            ></i></td>\n",
              "            <td class=\"param\">class_weight&nbsp;</td>\n",
              "            <td class=\"value\">None</td>\n",
              "        </tr>\n",
              "    \n",
              "\n",
              "        <tr class=\"default\">\n",
              "            <td><i class=\"copy-paste-icon\"\n",
              "                 onclick=\"copyToClipboard('random_state',\n",
              "                          this.parentElement.nextElementSibling)\"\n",
              "            ></i></td>\n",
              "            <td class=\"param\">random_state&nbsp;</td>\n",
              "            <td class=\"value\">None</td>\n",
              "        </tr>\n",
              "    \n",
              "\n",
              "        <tr class=\"default\">\n",
              "            <td><i class=\"copy-paste-icon\"\n",
              "                 onclick=\"copyToClipboard('solver',\n",
              "                          this.parentElement.nextElementSibling)\"\n",
              "            ></i></td>\n",
              "            <td class=\"param\">solver&nbsp;</td>\n",
              "            <td class=\"value\">&#x27;lbfgs&#x27;</td>\n",
              "        </tr>\n",
              "    \n",
              "\n",
              "        <tr class=\"default\">\n",
              "            <td><i class=\"copy-paste-icon\"\n",
              "                 onclick=\"copyToClipboard('max_iter',\n",
              "                          this.parentElement.nextElementSibling)\"\n",
              "            ></i></td>\n",
              "            <td class=\"param\">max_iter&nbsp;</td>\n",
              "            <td class=\"value\">100</td>\n",
              "        </tr>\n",
              "    \n",
              "\n",
              "        <tr class=\"default\">\n",
              "            <td><i class=\"copy-paste-icon\"\n",
              "                 onclick=\"copyToClipboard('multi_class',\n",
              "                          this.parentElement.nextElementSibling)\"\n",
              "            ></i></td>\n",
              "            <td class=\"param\">multi_class&nbsp;</td>\n",
              "            <td class=\"value\">&#x27;deprecated&#x27;</td>\n",
              "        </tr>\n",
              "    \n",
              "\n",
              "        <tr class=\"default\">\n",
              "            <td><i class=\"copy-paste-icon\"\n",
              "                 onclick=\"copyToClipboard('verbose',\n",
              "                          this.parentElement.nextElementSibling)\"\n",
              "            ></i></td>\n",
              "            <td class=\"param\">verbose&nbsp;</td>\n",
              "            <td class=\"value\">0</td>\n",
              "        </tr>\n",
              "    \n",
              "\n",
              "        <tr class=\"default\">\n",
              "            <td><i class=\"copy-paste-icon\"\n",
              "                 onclick=\"copyToClipboard('warm_start',\n",
              "                          this.parentElement.nextElementSibling)\"\n",
              "            ></i></td>\n",
              "            <td class=\"param\">warm_start&nbsp;</td>\n",
              "            <td class=\"value\">False</td>\n",
              "        </tr>\n",
              "    \n",
              "\n",
              "        <tr class=\"default\">\n",
              "            <td><i class=\"copy-paste-icon\"\n",
              "                 onclick=\"copyToClipboard('n_jobs',\n",
              "                          this.parentElement.nextElementSibling)\"\n",
              "            ></i></td>\n",
              "            <td class=\"param\">n_jobs&nbsp;</td>\n",
              "            <td class=\"value\">None</td>\n",
              "        </tr>\n",
              "    \n",
              "\n",
              "        <tr class=\"default\">\n",
              "            <td><i class=\"copy-paste-icon\"\n",
              "                 onclick=\"copyToClipboard('l1_ratio',\n",
              "                          this.parentElement.nextElementSibling)\"\n",
              "            ></i></td>\n",
              "            <td class=\"param\">l1_ratio&nbsp;</td>\n",
              "            <td class=\"value\">None</td>\n",
              "        </tr>\n",
              "    \n",
              "                  </tbody>\n",
              "                </table>\n",
              "            </details>\n",
              "        </div>\n",
              "    </div></div></div></div></div></div></div><script>function copyToClipboard(text, element) {\n",
              "    // Get the parameter prefix from the closest toggleable content\n",
              "    const toggleableContent = element.closest('.sk-toggleable__content');\n",
              "    const paramPrefix = toggleableContent ? toggleableContent.dataset.paramPrefix : '';\n",
              "    const fullParamName = paramPrefix ? `${paramPrefix}${text}` : text;\n",
              "\n",
              "    const originalStyle = element.style;\n",
              "    const computedStyle = window.getComputedStyle(element);\n",
              "    const originalWidth = computedStyle.width;\n",
              "    const originalHTML = element.innerHTML.replace('Copied!', '');\n",
              "\n",
              "    navigator.clipboard.writeText(fullParamName)\n",
              "        .then(() => {\n",
              "            element.style.width = originalWidth;\n",
              "            element.style.color = 'green';\n",
              "            element.innerHTML = \"Copied!\";\n",
              "\n",
              "            setTimeout(() => {\n",
              "                element.innerHTML = originalHTML;\n",
              "                element.style = originalStyle;\n",
              "            }, 2000);\n",
              "        })\n",
              "        .catch(err => {\n",
              "            console.error('Failed to copy:', err);\n",
              "            element.style.color = 'red';\n",
              "            element.innerHTML = \"Failed!\";\n",
              "            setTimeout(() => {\n",
              "                element.innerHTML = originalHTML;\n",
              "                element.style = originalStyle;\n",
              "            }, 2000);\n",
              "        });\n",
              "    return false;\n",
              "}\n",
              "\n",
              "document.querySelectorAll('.fa-regular.fa-copy').forEach(function(element) {\n",
              "    const toggleableContent = element.closest('.sk-toggleable__content');\n",
              "    const paramPrefix = toggleableContent ? toggleableContent.dataset.paramPrefix : '';\n",
              "    const paramName = element.parentElement.nextElementSibling.textContent.trim();\n",
              "    const fullParamName = paramPrefix ? `${paramPrefix}${paramName}` : paramName;\n",
              "\n",
              "    element.setAttribute('title', fullParamName);\n",
              "});\n",
              "</script></body>"
            ],
            "text/plain": [
              "Pipeline(steps=[('scaler', StandardScaler()), ('lr', LogisticRegression())])"
            ]
          },
          "execution_count": 165,
          "metadata": {},
          "output_type": "execute_result"
        }
      ],
      "source": [
        "model3 = Pipeline(steps=[\n",
        "    ('scaler', StandardScaler()),\n",
        "    ('lr', LogisticRegression())\n",
        "])\n",
        "model3.fit(X_train, y_train)"
      ]
    },
    {
      "cell_type": "markdown",
      "metadata": {
        "id": "t2zVo1tRUj9o"
      },
      "source": [
        "c) (0.25 pts) Calcula la exactitud (accuracy) del modelo y muestra la matriz de confusión.\n"
      ]
    },
    {
      "cell_type": "code",
      "execution_count": 172,
      "metadata": {
        "id": "D3q0Hzu_UmT5"
      },
      "outputs": [
        {
          "name": "stdout",
          "output_type": "stream",
          "text": [
            "Precisión: 61.03%\n"
          ]
        },
        {
          "data": {
            "image/png": "[encoded data removed]",
            "text/plain": [
              "<Figure size 640x480 with 2 Axes>"
            ]
          },
          "metadata": {},
          "output_type": "display_data"
        }
      ],
      "source": [
        "y_pred = model3.predict(X_train)\n",
        "print(f\"Precisión: {accuracy_score(y_train, y_pred) * 100:.2f}%\")\n",
        "disp = ConfusionMatrixDisplay(confusion_matrix=confusion_matrix(y_train, y_pred),\n",
        "                              display_labels=model3.classes_)\n",
        "disp.plot()\n",
        "plt.show()"
      ]
    },
    {
      "cell_type": "code",
      "execution_count": 174,
      "metadata": {},
      "outputs": [
        {
          "name": "stdout",
          "output_type": "stream",
          "text": [
            "Test - Precisión: 61.47%\n",
            "Test - Matriz de confusión\n"
          ]
        },
        {
          "data": {
            "image/png": "[encoded data removed]",
            "text/plain": [
              "<Figure size 640x480 with 2 Axes>"
            ]
          },
          "metadata": {},
          "output_type": "display_data"
        }
      ],
      "source": [
        "y_pred = model3.predict(X_test)\n",
        "print(f\"Test - Precisión: {accuracy_score(y_test, y_pred) * 100:.2f}%\")\n",
        "print(\"Test - Matriz de confusión\")\n",
        "disp = ConfusionMatrixDisplay(confusion_matrix=confusion_matrix(y_test, y_pred),\n",
        "                              display_labels=model3.classes_)\n",
        "disp.plot()\n",
        "plt.show()"
      ]
    },
    {
      "cell_type": "markdown",
      "metadata": {
        "id": "H8MWudWBUngY"
      },
      "source": [
        "d) (0.75 pts) Explica qué variable parece influir más según el modelo."
      ]
    },
    {
      "cell_type": "code",
      "execution_count": 167,
      "metadata": {
        "id": "qKdONBvPU1Pn"
      },
      "outputs": [
        {
          "data": {
            "application/vnd.plotly.v1+json": {
              "config": {
                "plotlyServerURL": "https://plot.ly"
              },
              "data": [
                {
                  "name": "Coeficientes",
                  "orientation": "h",
                  "type": "bar",
                  "x": {
                    "bdata": "lmWZSsg80T/NHOPDmemsP9jziPUNnME/pdH3Qu+zoj8GZKXlXOijPw==",
                    "dtype": "f8"
                  },
                  "y": [
                    "protein_per_kg",
                    "Session_Duration (hours)",
                    "Experience_Level",
                    "Workout_Frequency (days/week)",
                    "Calories_Burned"
                  ]
                }
              ],
              "layout": {
                "template": {
                  "data": {
                    "bar": [
                      {
                        "error_x": {
                          "color": "#2a3f5f"
                        },
                        "error_y": {
                          "color": "#2a3f5f"
                        },
                        "marker": {
                          "line": {
                            "color": "#E5ECF6",
                            "width": 0.5
                          },
                          "pattern": {
                            "fillmode": "overlay",
                            "size": 10,
                            "solidity": 0.2
                          }
                        },
                        "type": "bar"
                      }
                    ],
                    "barpolar": [
                      {
                        "marker": {
                          "line": {
                            "color": "#E5ECF6",
                            "width": 0.5
                          },
                          "pattern": {
                            "fillmode": "overlay",
                            "size": 10,
                            "solidity": 0.2
                          }
                        },
                        "type": "barpolar"
                      }
                    ],
                    "carpet": [
                      {
                        "aaxis": {
                          "endlinecolor": "#2a3f5f",
                          "gridcolor": "white",
                          "linecolor": "white",
                          "minorgridcolor": "white",
                          "startlinecolor": "#2a3f5f"
                        },
                        "baxis": {
                          "endlinecolor": "#2a3f5f",
                          "gridcolor": "white",
                          "linecolor": "white",
                          "minorgridcolor": "white",
                          "startlinecolor": "#2a3f5f"
                        },
                        "type": "carpet"
                      }
                    ],
                    "choropleth": [
                      {
                        "colorbar": {
                          "outlinewidth": 0,
                          "ticks": ""
                        },
                        "type": "choropleth"
                      }
                    ],
                    "contour": [
                      {
                        "colorbar": {
                          "outlinewidth": 0,
                          "ticks": ""
                        },
                        "colorscale": [
                          [
                            0,
                            "#0d0887"
                          ],
                          [
                            0.1111111111111111,
                            "#46039f"
                          ],
                          [
                            0.2222222222222222,
                            "#7201a8"
                          ],
                          [
                            0.3333333333333333,
                            "#9c179e"
                          ],
                          [
                            0.4444444444444444,
                            "#bd3786"
                          ],
                          [
                            0.5555555555555556,
                            "#d8576b"
                          ],
                          [
                            0.6666666666666666,
                            "#ed7953"
                          ],
                          [
                            0.7777777777777778,
                            "#fb9f3a"
                          ],
                          [
                            0.8888888888888888,
                            "#fdca26"
                          ],
                          [
                            1,
                            "#f0f921"
                          ]
                        ],
                        "type": "contour"
                      }
                    ],
                    "contourcarpet": [
                      {
                        "colorbar": {
                          "outlinewidth": 0,
                          "ticks": ""
                        },
                        "type": "contourcarpet"
                      }
                    ],
                    "heatmap": [
                      {
                        "colorbar": {
                          "outlinewidth": 0,
                          "ticks": ""
                        },
                        "colorscale": [
                          [
                            0,
                            "#0d0887"
                          ],
                          [
                            0.1111111111111111,
                            "#46039f"
                          ],
                          [
                            0.2222222222222222,
                            "#7201a8"
                          ],
                          [
                            0.3333333333333333,
                            "#9c179e"
                          ],
                          [
                            0.4444444444444444,
                            "#bd3786"
                          ],
                          [
                            0.5555555555555556,
                            "#d8576b"
                          ],
                          [
                            0.6666666666666666,
                            "#ed7953"
                          ],
                          [
                            0.7777777777777778,
                            "#fb9f3a"
                          ],
                          [
                            0.8888888888888888,
                            "#fdca26"
                          ],
                          [
                            1,
                            "#f0f921"
                          ]
                        ],
                        "type": "heatmap"
                      }
                    ],
                    "histogram": [
                      {
                        "marker": {
                          "pattern": {
                            "fillmode": "overlay",
                            "size": 10,
                            "solidity": 0.2
                          }
                        },
                        "type": "histogram"
                      }
                    ],
                    "histogram2d": [
                      {
                        "colorbar": {
                          "outlinewidth": 0,
                          "ticks": ""
                        },
                        "colorscale": [
                          [
                            0,
                            "#0d0887"
                          ],
                          [
                            0.1111111111111111,
                            "#46039f"
                          ],
                          [
                            0.2222222222222222,
                            "#7201a8"
                          ],
                          [
                            0.3333333333333333,
                            "#9c179e"
                          ],
                          [
                            0.4444444444444444,
                            "#bd3786"
                          ],
                          [
                            0.5555555555555556,
                            "#d8576b"
                          ],
                          [
                            0.6666666666666666,
                            "#ed7953"
                          ],
                          [
                            0.7777777777777778,
                            "#fb9f3a"
                          ],
                          [
                            0.8888888888888888,
                            "#fdca26"
                          ],
                          [
                            1,
                            "#f0f921"
                          ]
                        ],
                        "type": "histogram2d"
                      }
                    ],
                    "histogram2dcontour": [
                      {
                        "colorbar": {
                          "outlinewidth": 0,
                          "ticks": ""
                        },
                        "colorscale": [
                          [
                            0,
                            "#0d0887"
                          ],
                          [
                            0.1111111111111111,
                            "#46039f"
                          ],
                          [
                            0.2222222222222222,
                            "#7201a8"
                          ],
                          [
                            0.3333333333333333,
                            "#9c179e"
                          ],
                          [
                            0.4444444444444444,
                            "#bd3786"
                          ],
                          [
                            0.5555555555555556,
                            "#d8576b"
                          ],
                          [
                            0.6666666666666666,
                            "#ed7953"
                          ],
                          [
                            0.7777777777777778,
                            "#fb9f3a"
                          ],
                          [
                            0.8888888888888888,
                            "#fdca26"
                          ],
                          [
                            1,
                            "#f0f921"
                          ]
                        ],
                        "type": "histogram2dcontour"
                      }
                    ],
                    "mesh3d": [
                      {
                        "colorbar": {
                          "outlinewidth": 0,
                          "ticks": ""
                        },
                        "type": "mesh3d"
                      }
                    ],
                    "parcoords": [
                      {
                        "line": {
                          "colorbar": {
                            "outlinewidth": 0,
                            "ticks": ""
                          }
                        },
                        "type": "parcoords"
                      }
                    ],
                    "pie": [
                      {
                        "automargin": true,
                        "type": "pie"
                      }
                    ],
                    "scatter": [
                      {
                        "fillpattern": {
                          "fillmode": "overlay",
                          "size": 10,
                          "solidity": 0.2
                        },
                        "type": "scatter"
                      }
                    ],
                    "scatter3d": [
                      {
                        "line": {
                          "colorbar": {
                            "outlinewidth": 0,
                            "ticks": ""
                          }
                        },
                        "marker": {
                          "colorbar": {
                            "outlinewidth": 0,
                            "ticks": ""
                          }
                        },
                        "type": "scatter3d"
                      }
                    ],
                    "scattercarpet": [
                      {
                        "marker": {
                          "colorbar": {
                            "outlinewidth": 0,
                            "ticks": ""
                          }
                        },
                        "type": "scattercarpet"
                      }
                    ],
                    "scattergeo": [
                      {
                        "marker": {
                          "colorbar": {
                            "outlinewidth": 0,
                            "ticks": ""
                          }
                        },
                        "type": "scattergeo"
                      }
                    ],
                    "scattergl": [
                      {
                        "marker": {
                          "colorbar": {
                            "outlinewidth": 0,
                            "ticks": ""
                          }
                        },
                        "type": "scattergl"
                      }
                    ],
                    "scattermap": [
                      {
                        "marker": {
                          "colorbar": {
                            "outlinewidth": 0,
                            "ticks": ""
                          }
                        },
                        "type": "scattermap"
                      }
                    ],
                    "scattermapbox": [
                      {
                        "marker": {
                          "colorbar": {
                            "outlinewidth": 0,
                            "ticks": ""
                          }
                        },
                        "type": "scattermapbox"
                      }
                    ],
                    "scatterpolar": [
                      {
                        "marker": {
                          "colorbar": {
                            "outlinewidth": 0,
                            "ticks": ""
                          }
                        },
                        "type": "scatterpolar"
                      }
                    ],
                    "scatterpolargl": [
                      {
                        "marker": {
                          "colorbar": {
                            "outlinewidth": 0,
                            "ticks": ""
                          }
                        },
                        "type": "scatterpolargl"
                      }
                    ],
                    "scatterternary": [
                      {
                        "marker": {
                          "colorbar": {
                            "outlinewidth": 0,
                            "ticks": ""
                          }
                        },
                        "type": "scatterternary"
                      }
                    ],
                    "surface": [
                      {
                        "colorbar": {
                          "outlinewidth": 0,
                          "ticks": ""
                        },
                        "colorscale": [
                          [
                            0,
                            "#0d0887"
                          ],
                          [
                            0.1111111111111111,
                            "#46039f"
                          ],
                          [
                            0.2222222222222222,
                            "#7201a8"
                          ],
                          [
                            0.3333333333333333,
                            "#9c179e"
                          ],
                          [
                            0.4444444444444444,
                            "#bd3786"
                          ],
                          [
                            0.5555555555555556,
                            "#d8576b"
                          ],
                          [
                            0.6666666666666666,
                            "#ed7953"
                          ],
                          [
                            0.7777777777777778,
                            "#fb9f3a"
                          ],
                          [
                            0.8888888888888888,
                            "#fdca26"
                          ],
                          [
                            1,
                            "#f0f921"
                          ]
                        ],
                        "type": "surface"
                      }
                    ],
                    "table": [
                      {
                        "cells": {
                          "fill": {
                            "color": "#EBF0F8"
                          },
                          "line": {
                            "color": "white"
                          }
                        },
                        "header": {
                          "fill": {
                            "color": "#C8D4E3"
                          },
                          "line": {
                            "color": "white"
                          }
                        },
                        "type": "table"
                      }
                    ]
                  },
                  "layout": {
                    "annotationdefaults": {
                      "arrowcolor": "#2a3f5f",
                      "arrowhead": 0,
                      "arrowwidth": 1
                    },
                    "autotypenumbers": "strict",
                    "coloraxis": {
                      "colorbar": {
                        "outlinewidth": 0,
                        "ticks": ""
                      }
                    },
                    "colorscale": {
                      "diverging": [
                        [
                          0,
                          "#8e0152"
                        ],
                        [
                          0.1,
                          "#c51b7d"
                        ],
                        [
                          0.2,
                          "#de77ae"
                        ],
                        [
                          0.3,
                          "#f1b6da"
                        ],
                        [
                          0.4,
                          "#fde0ef"
                        ],
                        [
                          0.5,
                          "#f7f7f7"
                        ],
                        [
                          0.6,
                          "#e6f5d0"
                        ],
                        [
                          0.7,
                          "#b8e186"
                        ],
                        [
                          0.8,
                          "#7fbc41"
                        ],
                        [
                          0.9,
                          "#4d9221"
                        ],
                        [
                          1,
                          "#276419"
                        ]
                      ],
                      "sequential": [
                        [
                          0,
                          "#0d0887"
                        ],
                        [
                          0.1111111111111111,
                          "#46039f"
                        ],
                        [
                          0.2222222222222222,
                          "#7201a8"
                        ],
                        [
                          0.3333333333333333,
                          "#9c179e"
                        ],
                        [
                          0.4444444444444444,
                          "#bd3786"
                        ],
                        [
                          0.5555555555555556,
                          "#d8576b"
                        ],
                        [
                          0.6666666666666666,
                          "#ed7953"
                        ],
                        [
                          0.7777777777777778,
                          "#fb9f3a"
                        ],
                        [
                          0.8888888888888888,
                          "#fdca26"
                        ],
                        [
                          1,
                          "#f0f921"
                        ]
                      ],
                      "sequentialminus": [
                        [
                          0,
                          "#0d0887"
                        ],
                        [
                          0.1111111111111111,
                          "#46039f"
                        ],
                        [
                          0.2222222222222222,
                          "#7201a8"
                        ],
                        [
                          0.3333333333333333,
                          "#9c179e"
                        ],
                        [
                          0.4444444444444444,
                          "#bd3786"
                        ],
                        [
                          0.5555555555555556,
                          "#d8576b"
                        ],
                        [
                          0.6666666666666666,
                          "#ed7953"
                        ],
                        [
                          0.7777777777777778,
                          "#fb9f3a"
                        ],
                        [
                          0.8888888888888888,
                          "#fdca26"
                        ],
                        [
                          1,
                          "#f0f921"
                        ]
                      ]
                    },
                    "colorway": [
                      "#636efa",
                      "#EF553B",
                      "#00cc96",
                      "#ab63fa",
                      "#FFA15A",
                      "#19d3f3",
                      "#FF6692",
                      "#B6E880",
                      "#FF97FF",
                      "#FECB52"
                    ],
                    "font": {
                      "color": "#2a3f5f"
                    },
                    "geo": {
                      "bgcolor": "white",
                      "lakecolor": "white",
                      "landcolor": "#E5ECF6",
                      "showlakes": true,
                      "showland": true,
                      "subunitcolor": "white"
                    },
                    "hoverlabel": {
                      "align": "left"
                    },
                    "hovermode": "closest",
                    "mapbox": {
                      "style": "light"
                    },
                    "paper_bgcolor": "white",
                    "plot_bgcolor": "#E5ECF6",
                    "polar": {
                      "angularaxis": {
                        "gridcolor": "white",
                        "linecolor": "white",
                        "ticks": ""
                      },
                      "bgcolor": "#E5ECF6",
                      "radialaxis": {
                        "gridcolor": "white",
                        "linecolor": "white",
                        "ticks": ""
                      }
                    },
                    "scene": {
                      "xaxis": {
                        "backgroundcolor": "#E5ECF6",
                        "gridcolor": "white",
                        "gridwidth": 2,
                        "linecolor": "white",
                        "showbackground": true,
                        "ticks": "",
                        "zerolinecolor": "white"
                      },
                      "yaxis": {
                        "backgroundcolor": "#E5ECF6",
                        "gridcolor": "white",
                        "gridwidth": 2,
                        "linecolor": "white",
                        "showbackground": true,
                        "ticks": "",
                        "zerolinecolor": "white"
                      },
                      "zaxis": {
                        "backgroundcolor": "#E5ECF6",
                        "gridcolor": "white",
                        "gridwidth": 2,
                        "linecolor": "white",
                        "showbackground": true,
                        "ticks": "",
                        "zerolinecolor": "white"
                      }
                    },
                    "shapedefaults": {
                      "line": {
                        "color": "#2a3f5f"
                      }
                    },
                    "ternary": {
                      "aaxis": {
                        "gridcolor": "white",
                        "linecolor": "white",
                        "ticks": ""
                      },
                      "baxis": {
                        "gridcolor": "white",
                        "linecolor": "white",
                        "ticks": ""
                      },
                      "bgcolor": "#E5ECF6",
                      "caxis": {
                        "gridcolor": "white",
                        "linecolor": "white",
                        "ticks": ""
                      }
                    },
                    "title": {
                      "x": 0.05
                    },
                    "xaxis": {
                      "automargin": true,
                      "gridcolor": "white",
                      "linecolor": "white",
                      "ticks": "",
                      "title": {
                        "standoff": 15
                      },
                      "zerolinecolor": "white",
                      "zerolinewidth": 2
                    },
                    "yaxis": {
                      "automargin": true,
                      "gridcolor": "white",
                      "linecolor": "white",
                      "ticks": "",
                      "title": {
                        "standoff": 15
                      },
                      "zerolinecolor": "white",
                      "zerolinewidth": 2
                    }
                  }
                },
                "title": {
                  "text": "GLM coefficients importance"
                },
                "xaxis": {
                  "title": {
                    "text": "Coeficientes normalizados"
                  }
                },
                "yaxis": {
                  "title": {
                    "text": "Variables"
                  }
                }
              }
            }
          },
          "metadata": {},
          "output_type": "display_data"
        }
      ],
      "source": [
        "lmc = model3.named_steps['lr'].coef_\n",
        "\n",
        "# Plot for LM\n",
        "objects = X.columns\n",
        "y_pos = np.arange(len(objects))\n",
        "coefficients = lmc[0]\n",
        "\n",
        "\n",
        "fig = go.Figure()\n",
        "\n",
        "# Agrego las trazas necesarias\n",
        "fig.add_trace(\n",
        "    go.Bar(\n",
        "        x = coefficients,\n",
        "        y = objects,\n",
        "        name = \"Coeficientes\",\n",
        "        orientation='h'\n",
        "    )\n",
        ")\n",
        "\n",
        "# Actualizo el diseño\n",
        "fig.update_layout(title = \"GLM coefficients importance\", xaxis_title = \"Coeficientes normalizados\", yaxis_title = \"Variables\")\n",
        "\n",
        "# Muestro la figura\n",
        "fig.show()"
      ]
    },
    {
      "cell_type": "markdown",
      "metadata": {},
      "source": [
        "Parece que las variables que más influyen en determinar si una persona tiene un BMI saludable son protein_per_kg y Experience_Level"
      ]
    },
    {
      "cell_type": "markdown",
      "metadata": {
        "id": "dnuHNl1HU1sV"
      },
      "source": [
        "## Ejercicio 5 — Conclusión (1 punto)\n",
        "\n",
        "En un máximo de 300 palabras, resume:\n",
        "\n",
        "*   Qué hábitos parecen tener mayor relación con el estado de salud.\n",
        "\n",
        "*   Qué modelo fue más eficaz y por qué.\n",
        "\n",
        "*   Qué podrías mejorar si tuvieras más tiempo o datos.\n",
        "\n"
      ]
    },
    {
      "cell_type": "markdown",
      "metadata": {},
      "source": [
        "El consumo de proteínas parece ser el factor que más influye en el estado de salud. Otras variables significativas como el nivel de experiencia, las calorías quemadas y la duración de las sesiones indican que el ejercicio físico es muy importante.\n",
        "\n",
        "Parece que hay variables como el porcentaje de grasa o las calorías que están muy altamente correladas con el BMI. Por eso, el modelo lineal funciona muy bien con estos predictores. El random forest, al ser un modelo no lineal, se adapta mejor incluso a los datos de entrenamiento, aunque parece que tiene cierto overfitting y su precisión baja con los datos de test.\n",
        "\n",
        "Habría que hacer un estudio más detallado de las variables y probar diferentes combinaciones de predictores y tipos de modelo para encontrar la solución óptima."
      ]
    }
  ],
  "metadata": {
    "colab": {
      "provenance": []
    },
    "kernelspec": {
      "display_name": ".venv",
      "language": "python",
      "name": "python3"
    },
    "language_info": {
      "codemirror_mode": {
        "name": "ipython",
        "version": 3
      },
      "file_extension": ".py",
      "mimetype": "text/x-python",
      "name": "python",
      "nbconvert_exporter": "python",
      "pygments_lexer": "ipython3",
      "version": "3.10.12"
    }
  },
  "nbformat": 4,
  "nbformat_minor": 0
}
